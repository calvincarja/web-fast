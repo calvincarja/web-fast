{
 "cells": [
  {
   "cell_type": "code",
   "execution_count": 13,
   "metadata": {},
   "outputs": [],
   "source": [
    "import requests\n",
    "import random\n",
    "import time\n",
    "from bs4 import BeautifulSoup\n",
    "from urllib.parse import urlparse, parse_qs, urlencode\n",
    "import os\n",
    "import pandas as pd\n"
   ]
  },
  {
   "cell_type": "code",
   "execution_count": 14,
   "metadata": {},
   "outputs": [],
   "source": [
    "from selenium import webdriver\n",
    "from selenium.webdriver.common.action_chains import ActionChains\n",
    "from selenium.webdriver.chrome.options import Options\n",
    "from selenium.common.exceptions import WebDriverException\n",
    "from selenium.webdriver.common.by import By\n",
    "from selenium.common.exceptions import WebDriverException, ElementNotInteractableException, TimeoutException,JavascriptException\n",
    "from selenium.webdriver.support.ui import WebDriverWait\n",
    "from selenium.webdriver.support import expected_conditions as EC"
   ]
  },
  {
   "cell_type": "markdown",
   "metadata": {},
   "source": [
    "-- chome_options that need to be run ** using"
   ]
  },
  {
   "cell_type": "code",
   "execution_count": 15,
   "metadata": {},
   "outputs": [],
   "source": [
    "def get_chrome_options():\n",
    "    chrome_options = Options()\n",
    "    chrome_options.add_argument(\"User-Agent=Mozilla/5.0 (Windows NT 10.0; Win64; x64) AppleWebKit/537.36 (KHTML, like Gecko) Chrome/58.0.3029.110 Safari/537.36\")\n",
    "    chrome_options.add_argument(\"--headless=new\")  # New headless implementation\n",
    "    chrome_options.add_argument(\"--disable-gpu\")  # Disable GPU (useful for older environments)\n",
    "    chrome_options.add_argument(\"--window-size=1920,1080\")  # Set window size for headless\n",
    "    chrome_options.add_argument(\"--no-sandbox\")  # Bypass sandbox (useful in CI)\n",
    "    chrome_options.add_argument(\"--disable-dev-shm-usage\")  # Prevent shared memory issues\n",
    "    return chrome_options"
   ]
  },
  {
   "cell_type": "code",
   "execution_count": 39,
   "metadata": {},
   "outputs": [],
   "source": [
    "# driver = webdriver.Chrome(options=chrome_options)"
   ]
  },
  {
   "cell_type": "markdown",
   "metadata": {},
   "source": [
    "-- testing out the urls function"
   ]
  },
  {
   "cell_type": "code",
   "execution_count": null,
   "metadata": {},
   "outputs": [],
   "source": [
    "'''\n",
    "-- archive for testing the extraction url funtion\n",
    "driver = webdriver.Chrome(options=chrome_options)\n",
    "url = \"https://preprod-aws.oceaniacruises.com/cruise-finder#sort=featured:desc&page=1&pageSize=10\"\n",
    "def find_urls(driver, url):\n",
    "    inner_html_list = []\n",
    "    try:\n",
    "        # Navigate to the page\n",
    "        driver.get(url)\n",
    "\n",
    "        # Wait for the page to load (adjust if necessary)\n",
    "        time.sleep(10)\n",
    "\n",
    "        # Use JavaScript to fetch the innerHTML of all elements with the given class name\n",
    "        script = f\"\"\"\n",
    "        const listItems = document.querySelectorAll('.c29_body_options_item');\n",
    "        let hrefList = [];\n",
    "        listItems.forEach(li => {{\n",
    "            const anchor = li.querySelector('a'); // Search for <a> within each <li>\n",
    "            if (anchor && anchor.href) {{\n",
    "                hrefList.push(anchor.href);      // Push the href value to the list\n",
    "            }}\n",
    "        }});\n",
    "        return hrefList;\n",
    "        \"\"\"\n",
    "        \n",
    "        # Execute the JavaScript and fetch the results\n",
    "        inner_html_list = driver.execute_script(script)\n",
    "        \n",
    "    except Exception as e:\n",
    "        print(f\"An error occurred: {e}\")\n",
    "    finally:\n",
    "        driver.quit()\n",
    "    \n",
    "    return inner_html_list\n",
    "print(find_urls(driver, url))\n",
    "'''"
   ]
  },
  {
   "cell_type": "code",
   "execution_count": null,
   "metadata": {},
   "outputs": [],
   "source": [
    "'''\n",
    "# testing the page navigation -- Nov 25 update, this works, now will navigate to the next page\n",
    "driver = webdriver.Chrome(options=chrome_options)\n",
    "try:\n",
    "    url = \"https://preprod-aws.oceaniacruises.com/cruise-finder#sort=featured:desc&page=1&pageSize=10\"\n",
    "    current_page = 0\n",
    "    # page navigation section\n",
    "    driver.get(url)\n",
    "    print(driver.current_url)\n",
    "    time.sleep(10)\n",
    "    page_navigation_bar = driver.find_element(By.XPATH, \"//*[@class='listing -horizontal']\") # worked\n",
    "    each_page = page_navigation_bar.find_elements(By.TAG_NAME, 'li') # worked\n",
    "    page_amount = len(each_page)\n",
    "    print(f\"there are {page_amount} total pages\")\n",
    "    \n",
    "    # what page are we currently on?\n",
    "    for page in each_page:\n",
    "        # get the anchor tag\n",
    "        a_tag = page.find_elements(By.TAG_NAME, 'a')\n",
    "        for index, a in enumerate(a_tag):\n",
    "            class_attribute = a.get_attribute(\"class\")\n",
    "            if 'active' in class_attribute:\n",
    "                current_page = index + 1\n",
    "                print(f\"you're currently on page {current_page}\")\n",
    "                break\n",
    "    \n",
    "    \n",
    "    # lets go to the next page - use the urllib library to parse the url\n",
    "    # since i am updating the fragment section, i do not need to use the urllib library\n",
    "    while True:\n",
    "        if current_page < page_amount:\n",
    "            print(f\"will now be clicking the next page {current_page + 1}\")\n",
    "            '''\n",
    "            # lets parse the url to get the query string\n",
    "            parsed_url = urlparse(driver.current_url)\n",
    "            # get the query string - returns a dictionary\n",
    "            query_string = parse_qs(parsed_url.query)\n",
    "            # update the page numnber\n",
    "            query_string['page'] = [str(current_page + 1)]\n",
    "            # set the pagesize\n",
    "            query_string['pageSize'] = ['50']\n",
    "            # encode the query string\n",
    "            encoded_query_string = urlencode(query_string, doseq=True)\n",
    "            # create the new url\n",
    "            new_url = parsed_url._replace(query=encoded_query_string).geturl()\n",
    "            # navigate to the new url\n",
    "            driver.get(new_url)\n",
    "            '''\n",
    "            # update the fragment section of the url\n",
    "            base_url = driver.current_url.split('#')[0]\n",
    "            fragment = f\"sort=featured:desc&page={str(current_page + 1)}&pageSize=10\"\n",
    "            new_url = f\"{base_url}#{fragment}\"\n",
    "            driver.get(new_url)\n",
    "            print(driver.current_url)\n",
    "            time.sleep(5)\n",
    "            current_page += 1\n",
    "        else:\n",
    "            break\n",
    "    \n",
    "    \n",
    "    print(\"done\")\n",
    "    driver.quit()\n",
    "\n",
    "    \n",
    "except Exception as e:\n",
    "    print(f\"An error occurred: {e}\")\n",
    "finally:\n",
    "    driver.quit()\n",
    "'''"
   ]
  },
  {
   "cell_type": "markdown",
   "metadata": {},
   "source": [
    "-- function to check the current page that i am on"
   ]
  },
  {
   "cell_type": "code",
   "execution_count": 84,
   "metadata": {},
   "outputs": [],
   "source": [
    "'''\n",
    "retiring as updaing the url with framgment does not update the active class\n",
    "def get_current_page(driver):\n",
    "    try:\n",
    "        page_navigation_bar = driver.find_element(By.XPATH, \"//*[@class='listing -horizontal']\")\n",
    "        each_page = page_navigation_bar.find_elements(By.TAG_NAME, 'li')\n",
    "        for page in each_page:\n",
    "            # Get the anchor tag\n",
    "            a_tag = page.find_elements(By.TAG_NAME, 'a')\n",
    "            for index, a in enumerate(a_tag):\n",
    "                class_attribute = a.get_attribute(\"class\")\n",
    "                print(f\"current class attribute: {class_attribute}\")\n",
    "                if 'active' in class_attribute:\n",
    "                    current_page = index + 1\n",
    "                    print(f\"you're currently on page {current_page}\")\n",
    "                    break\n",
    "        return current_page\n",
    "    \n",
    "    except Exception as e:\n",
    "        print(f\"An error occurred: {e}\")\n",
    "        return None\n",
    "'''"
   ]
  },
  {
   "cell_type": "markdown",
   "metadata": {},
   "source": [
    "-- function to get the page_navigation info ** using"
   ]
  },
  {
   "cell_type": "code",
   "execution_count": 26,
   "metadata": {},
   "outputs": [],
   "source": [
    "def get_page_navigation_info(driver):\n",
    "    try:\n",
    "        # Find the page navigation bar\n",
    "        page_navigation_bar = driver.find_element(By.XPATH, \"//*[@class='listing -horizontal']\")\n",
    "        each_page = page_navigation_bar.find_elements(By.TAG_NAME, 'li')\n",
    "        page_amount = len(each_page)\n",
    "        print(f\"there are {page_amount} total pages\")\n",
    "        return each_page, page_amount\n",
    "    \n",
    "    except Exception as e:\n",
    "        print(f\"An error occurred: {e}\")\n",
    "        return None, None"
   ]
  },
  {
   "cell_type": "markdown",
   "metadata": {},
   "source": [
    "-- code to update the url to go to the next page ** using"
   ]
  },
  {
   "cell_type": "code",
   "execution_count": 40,
   "metadata": {},
   "outputs": [],
   "source": [
    "def update_url_fragment(driver, current_page):\n",
    "    base_url = driver.current_url.split('#')[0]\n",
    "    fragment = f\"sort=featured:desc&page={str(current_page + 1)}&pageSize=10\"\n",
    "    new_url = f\"{base_url}#{fragment}\"\n",
    "    return new_url"
   ]
  },
  {
   "cell_type": "markdown",
   "metadata": {},
   "source": [
    "-- check if the cruises load and expand the dropdown menu for voyage listing"
   ]
  },
  {
   "cell_type": "code",
   "execution_count": 47,
   "metadata": {},
   "outputs": [
    {
     "name": "stdout",
     "output_type": "stream",
     "text": [
      "Page loaded successfully\n",
      "VIEW 616 CRUISES\n",
      "Dropdown clicked successfully\n",
      "Dropdown expanded successfully\n",
      "true\n",
      "VIEW 616 CRUISES\n"
     ]
    }
   ],
   "source": [
    "'''\n",
    "try:\n",
    "    url = \"https://preprod-aws.oceaniacruises.com/cruise-finder#sort=featured:desc&page=1&pageSize=10\"\n",
    "    driver.get(url)\n",
    "    time.sleep(12)\n",
    "    # ensure the results loaded by checking the value of view button\n",
    "    element = driver.find_element(By.CLASS_NAME, 'c265_aside_item')\n",
    "    is_page_loaded = \"0\" not in element.get_attribute(\"outerText\")\n",
    "    # drop_down_class = \".btn.dropdown-toggle.btn-outline-black.btn-md\" # Class of the dropdown - using CSS selector to acount for the spaces\n",
    "    drop_down_xpath = \"//button[contains(@class, 'btn') and contains(@class, 'dropdown-toggle') and contains(@class, 'btn-outline-black') and contains(@class, 'btn-md')]\"  # XPath for the dropdown\n",
    "    if is_page_loaded:\n",
    "        print('Page loaded successfully')\n",
    "        print(element.get_attribute(\"outerText\"))  # Print the outerText of the element\n",
    "        \n",
    "        # Find the dropdown element directly without waiting\n",
    "        drop_down_element = driver.find_element(By.XPATH, drop_down_xpath)\n",
    "        \n",
    "        # Scroll the dropdown element into view\n",
    "        driver.execute_script(\"arguments[0].scrollIntoView(true);\", drop_down_element)\n",
    "        \n",
    "        # Click the dropdown using JavaScript\n",
    "        driver.execute_script(\"arguments[0].click();\", drop_down_element)\n",
    "        print('Dropdown clicked successfully')\n",
    "        \n",
    "        # Get the attribute aria-expanded\n",
    "        drop_down_expanded = drop_down_element.get_attribute(\"aria-expanded\")\n",
    "        \n",
    "        if drop_down_expanded.lower() == \"true\":\n",
    "            print('Dropdown expanded successfully')\n",
    "            print(drop_down_expanded)\n",
    "        else:\n",
    "            print('Dropdown did not expand successfully')\n",
    "            print(drop_down_expanded)\n",
    "    else:\n",
    "        print('Page did not load successfully')\n",
    "\n",
    "except WebDriverException as e:\n",
    "    print('Error loading page:', e)\n",
    "\n",
    "except ElementNotInteractableException as e:\n",
    "    print('Element not interactable:', e)\n",
    "\n",
    "finally:\n",
    "    # Close the browser\n",
    "    driver.quit()\n",
    "'''"
   ]
  },
  {
   "cell_type": "markdown",
   "metadata": {},
   "source": [
    "-- extracting the urls from the page function , load urls to list ** using"
   ]
  },
  {
   "cell_type": "code",
   "execution_count": 18,
   "metadata": {},
   "outputs": [],
   "source": [
    "def find_urls(driver):\n",
    "    try:\n",
    "        # Use JavaScript to find <a> tags within <li> elements and extract hrefs\n",
    "        script = f\"\"\"\n",
    "        const listItems = document.querySelectorAll('.c29_body_options_item');\n",
    "        let hrefList = [];\n",
    "        listItems.forEach(li => {{\n",
    "            const anchor = li.querySelector('a'); // Search for <a> within each <li>\n",
    "            if (anchor && anchor.href) {{\n",
    "                hrefList.push(anchor.href);      // Push the href value to the list\n",
    "            }}\n",
    "        }});\n",
    "        return hrefList;\n",
    "        \"\"\"\n",
    "        \n",
    "        # Execute the JavaScript and fetch the results\n",
    "        href_list = driver.execute_script(script)\n",
    "        \n",
    "    except Exception as e:\n",
    "        print(f\"An error occurred: {e}\")\n",
    "    \n",
    "    return href_list"
   ]
  },
  {
   "cell_type": "markdown",
   "metadata": {},
   "source": [
    "-- below is to now select a value from the expanded list and selecting a value"
   ]
  },
  {
   "cell_type": "code",
   "execution_count": 33,
   "metadata": {},
   "outputs": [
    {
     "name": "stdout",
     "output_type": "stream",
     "text": [
      "Page loaded successfully\n",
      "VIEW 616 CRUISES\n",
      "Dropdown clicked successfully\n",
      "Dropdown expanded successfully\n",
      "true\n",
      "Dropdown selection clicked successfully\n",
      "Dropdown selection updated successfully\n",
      "50\n",
      "https://preprod-aws.oceaniacruises.com/cruise-finder#sort=featured:desc&page=1&pageSize=50\n"
     ]
    }
   ],
   "source": [
    "'''\n",
    "try:\n",
    "    url = \"https://preprod-aws.oceaniacruises.com/cruise-finder#sort=featured:desc&page=1&pageSize=10\"\n",
    "    driver.get(url)\n",
    "    time.sleep(12)\n",
    "    \n",
    "    \n",
    "    driver varibles \n",
    " \n",
    "    \n",
    "    # view crusies parent class\n",
    "    element = driver.find_element(By.CLASS_NAME, 'c265_aside_item')\n",
    "    # drop down toggle class\n",
    "    drop_down_xpath = \"//button[@class='btn dropdown-toggle btn-outline-black btn-md']\"\n",
    "    drop_down_element = driver.find_element(By.XPATH, drop_down_xpath)\n",
    "    # drop down individual values\n",
    "    list_item = driver.find_element(By.XPATH, \"//a[@id='bs-select-17-4']\")\n",
    "    # page navigation section\n",
    "    page_navigation_bar = driver.find_element(By.XPATH, \"//*[@class='listing -horizontal']\")\n",
    "    each_page = page_navigation_bar.find_elements(By.TAG_NAME, 'li')\n",
    "    # initialize varibles to have global scope as its needed for the while loop to work\n",
    "    page_amount = None\n",
    "    current_page = None\n",
    "    # ensure the results loaded by checking the value of view button\n",
    "    is_page_loaded = \"0\" not in element.get_attribute(\"outerText\")\n",
    "    if is_page_loaded:\n",
    "        print('Page loaded successfully')\n",
    "        print(element.get_attribute(\"outerText\"))  # Print the outerText of the element\n",
    "        driver.execute_script(\"arguments[0].scrollIntoView(true);\", drop_down_element)\n",
    "        \n",
    "        # Click the dropdown\n",
    "        driver.execute_script(\"arguments[0].click();\", drop_down_element)\n",
    "        print('Dropdown clicked successfully')\n",
    "        \n",
    "        # Click the individual item selection\n",
    "        driver.execute_script(\"arguments[0].click();\", list_item) \n",
    "        print('Dropdown selection clicked successfully')\n",
    "        \n",
    "        # Wait for 20 seconds\n",
    "        time.sleep(20)\n",
    "        \n",
    "        # lets check if the count updated\n",
    "        if (drop_down_element.get_attribute(\"title\") == \"50\"):\n",
    "            print('Dropdown selection updated successfully')\n",
    "            print(drop_down_element.get_attribute(\"title\"))\n",
    "            print(driver.current_url)\n",
    "            url_list = find_urls(driver)\n",
    "            print(url_list) # end\n",
    "            # selecting the page navigation\n",
    "            \n",
    "            page_amount = len(each_page)\n",
    "            current_page = page_navigation_bar.find_element(By.XPATH, \"//*[@class='active']\")\n",
    "            \n",
    "\n",
    "        else:\n",
    "            print(drop_down_element.get_attribute(\"title\"))\n",
    "            print('Dropdown selection did not update successfully')\n",
    "            print(driver.current_url)\n",
    "    else:\n",
    "        print('Page did not load successfully')\n",
    "\n",
    "except WebDriverException as e:\n",
    "    print('Error loading page:', e)\n",
    "\n",
    "except ElementNotInteractableException as e:\n",
    "    print('Element not interactable:', e)\n",
    "\n",
    "finally:\n",
    "    # Close the browser\n",
    "    driver.quit()\n",
    "'''"
   ]
  },
  {
   "cell_type": "markdown",
   "metadata": {},
   "source": [
    "-- get_global_list function that loads the page and extracts urls ** using"
   ]
  },
  {
   "cell_type": "code",
   "execution_count": 47,
   "metadata": {},
   "outputs": [],
   "source": [
    "def get_global_list():\n",
    "    try:\n",
    "        chrome_options = get_chrome_options()\n",
    "        driver = webdriver.Chrome(options=chrome_options)\n",
    "        url = \"https://preprod-aws.oceaniacruises.com/cruise-finder#sort=featured:desc&page=1&pageSize=10\"\n",
    "        driver.get(url)\n",
    "        time.sleep(10)\n",
    "        each_page, page_amount = get_page_navigation_info(driver)\n",
    "        # create global list to insert all the list into this one -- remeber to flatten at the end\n",
    "        current_page = 1 # start at page 1\n",
    "        global_list_urls = []\n",
    "        \n",
    "        while True:\n",
    "            if current_page <= 2:\n",
    "                print(f\"Current page: {current_page}, Total pages: {page_amount}\")\n",
    "                print(f\"current url: {driver.current_url}\")\n",
    "                element = driver.find_element(By.CLASS_NAME, 'c265_aside_item')\n",
    "                is_page_loaded = \"0\" not in element.get_attribute(\"outerText\")    \n",
    "                \n",
    "                if is_page_loaded:\n",
    "                    print('Page loaded successfully')\n",
    "                    print(f\"checking the page loaded the cruises: {element.get_attribute(\"outerText\")}\")\n",
    "                    href_list = find_urls(driver)\n",
    "                    global_list_urls.append(href_list)\n",
    "                    print(\"global list has been updated with the href urls\")\n",
    "\n",
    "                    # go to the next page\n",
    "                    new_url = update_url_fragment(driver, current_page)\n",
    "                    current_page += 1\n",
    "                    print(f\"Navigating to new URL: {new_url}\")\n",
    "                    driver.get(new_url)\n",
    "                    time.sleep(10)               \n",
    "                else:\n",
    "                    print('Page did not load successfully')\n",
    "            else:\n",
    "                print(\"all pages have been scraped\")\n",
    "                break\n",
    "        return global_list_urls\n",
    "\n",
    "    except WebDriverException as e:\n",
    "        print('Error loading page:', e)\n",
    "        return None\n",
    "\n",
    "    except ElementNotInteractableException as e:\n",
    "        print('Element not interactable:', e)\n",
    "        return None\n",
    "\n",
    "    finally:\n",
    "        # Close the browser\n",
    "        driver.quit()"
   ]
  },
  {
   "cell_type": "markdown",
   "metadata": {},
   "source": [
    "-- cleaning the values of the global list ** using"
   ]
  },
  {
   "cell_type": "code",
   "execution_count": 46,
   "metadata": {},
   "outputs": [],
   "source": [
    "\n",
    "def cleaning_list(global_list):\n",
    "    # use nested loop as global list is a collection of lists\n",
    "    # first round of cleaning\n",
    "    for sublist in global_list:\n",
    "        i = 0\n",
    "        while i < len(sublist):\n",
    "            if sublist[i] == 'https://preprod-aws.oceaniacruises.com/cruise-finder#':\n",
    "                sublist.pop(i)\n",
    "            else:\n",
    "                i += 1\n",
    "    \n",
    "    # second round of cleaning\n",
    "    for sublist in global_list:\n",
    "        i = 0\n",
    "        while i < len(sublist):\n",
    "            if \"?sr=%2Fcruise-finder%23sort%3Dfeatured%3Adesc%26page%3D1%26pageSize%3D10\" in sublist[i]:\n",
    "                sublist[i] = sublist[i].replace(\"?sr=%2Fcruise-finder%23sort%3Dfeatured%3Adesc%26page%3D1%26pageSize%3D10\", \"\")\n",
    "            else:\n",
    "                i += 1\n",
    "    return global_list"
   ]
  },
  {
   "cell_type": "markdown",
   "metadata": {},
   "source": [
    "-- cleaning the list function - advance"
   ]
  },
  {
   "cell_type": "code",
   "execution_count": 42,
   "metadata": {},
   "outputs": [],
   "source": [
    "'''\n",
    "def cleaning_list(global_list):\n",
    "    for sublist in global_list:\n",
    "        # first round of cleaning\n",
    "        sublist[:] = [x for x in sublist if x != 'https://preprod-aws.oceaniacruises.com/cruise-finder#']\n",
    "    \n",
    "        # second round of cleaning\n",
    "        # sublist[:] = [x.replace(\"?sr=%2Fcruise-finder%23sort%3Dfeatured%3Adesc%26page%3D1%26pageSize%3D10\", \"\") if \"?sr=%2Fcruise-finder%23sort%3Dfeatured%3Adesc%26page%3D1%26pageSize%3D10\" in x else x for x in sublist]\n",
    "        sublist[:] = [x.replace(\"?sr=%2Fcruise-finder%23sort%3Dfeatured%3Adesc%26page%3D1%26pageSize%3D10\", \"\") for x in sublist]\n",
    "\n",
    "        return global_list\n",
    "'''"
   ]
  },
  {
   "cell_type": "markdown",
   "metadata": {},
   "source": [
    "-- lets flatten out the global list ** using"
   ]
  },
  {
   "cell_type": "code",
   "execution_count": 27,
   "metadata": {},
   "outputs": [],
   "source": [
    "def flatten_list(global_list):\n",
    "    list_of_list = [item for sublist in global_list for item in sublist]\n",
    "    return list_of_list"
   ]
  },
  {
   "cell_type": "markdown",
   "metadata": {},
   "source": [
    "-- lets create the function to process each url ** using"
   ]
  },
  {
   "cell_type": "code",
   "execution_count": null,
   "metadata": {},
   "outputs": [],
   "source": [
    "def process_each_url(url):\n",
    "    try:\n",
    "        map_url = []\n",
    "        chrome_options = get_chrome_options()\n",
    "        driver = webdriver.Chrome(options=chrome_options)\n",
    "        driver.get(url)\n",
    "        time.sleep(10)\n",
    "        body_inner_html = driver.execute_script(\"return document.body.innerHTML;\")\n",
    "        driver.quit()\n",
    "        soup = BeautifulSoup(body_inner_html, 'html5lib')\n",
    "        map_soup = soup.find(\"div\", class_ = \"image\").find(\"a\")\n",
    "        map_soup_ahref = map_soup['href']\n",
    "        map_url.append((url,map_soup_ahref))\n",
    "        return map_url\n",
    "    except Exception as e:\n",
    "        print(f\"An error occurred: {e}\")\n",
    "        return None\n",
    "        "
   ]
  },
  {
   "cell_type": "markdown",
   "metadata": {},
   "source": [
    "-- lets pass the flatten_list to the scan url function ** using"
   ]
  },
  {
   "cell_type": "code",
   "execution_count": null,
   "metadata": {},
   "outputs": [],
   "source": [
    "def scan_list(list_of_list):\n",
    "    for index, url in enumerate(list_of_list):\n",
    "        print(f\"index: {index}, url: {url}\")"
   ]
  },
  {
   "cell_type": "markdown",
   "metadata": {},
   "source": [
    "-- downloading the global list to a text file onto my computer"
   ]
  },
  {
   "cell_type": "code",
   "execution_count": 8,
   "metadata": {},
   "outputs": [],
   "source": [
    "def download_list(global_list_urls):\n",
    "    # define the downloads folder\n",
    "    downloads_folder = '/Users/calvinpineda/Downloads'\n",
    "    output_file_path = os.path.join(downloads_folder, \"output-test.txt\")\n",
    "\n",
    "    # open the file in write mode\n",
    "    with open(output_file_path, \"w\") as file:\n",
    "        for url_list in global_list_urls:\n",
    "            for url in url_list:\n",
    "                file.write(f\"{url}\\n\")"
   ]
  },
  {
   "cell_type": "code",
   "execution_count": 38,
   "metadata": {},
   "outputs": [],
   "source": [
    "def master_function():\n",
    "    global_list_urls = get_global_list()\n",
    "    cleaning_list(global_list_urls) # modify the global list in place\n",
    "    list_of_list = flatten_list(global_list_urls) # flatten the list\n",
    "    print(list_of_list)\n",
    "    print(f\"the list contains {len(list_of_list)} urls\")"
   ]
  },
  {
   "cell_type": "code",
   "execution_count": 48,
   "metadata": {},
   "outputs": [
    {
     "name": "stdout",
     "output_type": "stream",
     "text": [
      "there are 7 total pages\n",
      "Current page: 1, Total pages: 7\n",
      "current url: https://preprod-aws.oceaniacruises.com/cruise-finder#sort=featured:desc&page=1&pageSize=10\n",
      "Page loaded successfully\n",
      "checking the page loaded the cruises: VIEW 614 CRUISES\n",
      "global list has been updated with the href urls\n",
      "Navigating to new URL: https://preprod-aws.oceaniacruises.com/cruise-finder#sort=featured:desc&page=2&pageSize=10\n",
      "Current page: 2, Total pages: 7\n",
      "current url: https://preprod-aws.oceaniacruises.com/cruise-finder#sort=featured:desc&page=2&pageSize=10\n",
      "Page loaded successfully\n",
      "checking the page loaded the cruises: VIEW 614 CRUISES\n",
      "global list has been updated with the href urls\n",
      "Navigating to new URL: https://preprod-aws.oceaniacruises.com/cruise-finder#sort=featured:desc&page=3&pageSize=10\n",
      "all pages have been scraped\n",
      "['https://preprod-aws.oceaniacruises.com/caribbean-cruises/miami-to-bridgetown-SIR241221/', 'https://preprod-aws.oceaniacruises.com/australia-cruises/sydney-to-sydney-REG250125/', 'https://preprod-aws.oceaniacruises.com/transatlantic-cruises/rio-de-janeiro-to-cape-town-INS250127/', 'https://preprod-aws.oceaniacruises.com/australia-cruises/papeete-to-auckland-NAU250307/', 'https://preprod-aws.oceaniacruises.com/caribbean-cruises/miami-to-miami-SIR250311/', 'https://preprod-aws.oceaniacruises.com/caribbean-cruises/miami-to-miami-VIS250320/', 'https://preprod-aws.oceaniacruises.com/caribbean-cruises/miami-to-miami-VIS250327/', 'https://preprod-aws.oceaniacruises.com/transatlantic-cruises/rio-de-janeiro-to-santa-cruz-de-tenerife-MNA250405/', 'https://preprod-aws.oceaniacruises.com/caribbean-cruises/miami-to-miami-VIS250408/', 'https://preprod-aws.oceaniacruises.com/asia-cruises/singapore-to-taipei-REG250409/', 'https://preprod-aws.oceaniacruises.com/caribbean-cruises/miami-to-bridgetown-SIR241221/', 'https://preprod-aws.oceaniacruises.com/australia-cruises/sydney-to-sydney-REG250125/', 'https://preprod-aws.oceaniacruises.com/transatlantic-cruises/rio-de-janeiro-to-cape-town-INS250127/', 'https://preprod-aws.oceaniacruises.com/australia-cruises/papeete-to-auckland-NAU250307/', 'https://preprod-aws.oceaniacruises.com/caribbean-cruises/miami-to-miami-SIR250311/', 'https://preprod-aws.oceaniacruises.com/caribbean-cruises/miami-to-miami-VIS250320/', 'https://preprod-aws.oceaniacruises.com/caribbean-cruises/miami-to-miami-VIS250327/', 'https://preprod-aws.oceaniacruises.com/transatlantic-cruises/rio-de-janeiro-to-santa-cruz-de-tenerife-MNA250405/', 'https://preprod-aws.oceaniacruises.com/caribbean-cruises/miami-to-miami-VIS250408/', 'https://preprod-aws.oceaniacruises.com/asia-cruises/singapore-to-taipei-REG250409/']\n",
      "the list contains 20 urls\n"
     ]
    }
   ],
   "source": [
    "master_function()"
   ]
  },
  {
   "cell_type": "markdown",
   "metadata": {},
   "source": []
  },
  {
   "cell_type": "code",
   "execution_count": null,
   "metadata": {},
   "outputs": [],
   "source": [
    "'''\n",
    "back up code\n",
    "try:\n",
    "    url = \"https://preprod-aws.oceaniacruises.com/cruise-finder#sort=featured:desc&page=1&pageSize=10\"\n",
    "    driver.get(url)\n",
    "    time.sleep(12)\n",
    "    \n",
    "    driver varibles \n",
    " \n",
    "    # view crusies parent class\n",
    "    element = driver.find_element(By.CLASS_NAME, 'c265_aside_item')\n",
    "    # drop down toggle class\n",
    "    drop_down_xpath = \"//button[@class='btn dropdown-toggle btn-outline-black btn-md']\"\n",
    "    drop_down_element = driver.find_element(By.XPATH, drop_down_xpath)\n",
    "    # drop down individual values\n",
    "    list_item = driver.find_element(By.XPATH, \"//a[@id='bs-select-17-4']\")\n",
    "    # page navigation section\n",
    "    page_navigation_bar = driver.find_element(By.XPATH, \"//*[@class='listing -horizontal']\")\n",
    "    each_page = page_navigation_bar.find_elements(By.TAG_NAME, 'li')\n",
    "    # initialize varibles to have global scope as its needed for the while loop to work\n",
    "    page_amount = None\n",
    "    current_page = None\n",
    "    # create global list to insert all the list into this one -- remeber to flatten at the end\n",
    "    global_list_urls = []\n",
    "\n",
    "    while True:\n",
    "        if int(current_page.text) > page_amount:\n",
    "            print(\"completed all pages\")\n",
    "            break\n",
    "        else:\n",
    "            is_page_loaded = \"0\" not in element.get_attribute(\"outerText\")\n",
    "            if is_page_loaded:\n",
    "                print('Page loaded successfully')\n",
    "                print(element.get_attribute(\"outerText\"))  # Print the outerText of the element\n",
    "                driver.execute_script(\"arguments[0].scrollIntoView(true);\", drop_down_element)\n",
    "                \n",
    "                # Click the dropdown\n",
    "                driver.execute_script(\"arguments[0].click();\", drop_down_element)\n",
    "                print('Dropdown clicked successfully')\n",
    "                \n",
    "                # Click the individual item selection\n",
    "                driver.execute_script(\"arguments[0].click();\", list_item) \n",
    "                print('Dropdown selection clicked successfully')\n",
    "                \n",
    "                # Wait for 20 seconds\n",
    "                time.sleep(20)\n",
    "                \n",
    "                # lets check if the count updated\n",
    "                if (drop_down_element.get_attribute(\"title\") == \"50\"):\n",
    "                    print('Dropdown selection updated successfully')\n",
    "                    print(drop_down_element.get_attribute(\"title\"))\n",
    "                    print(driver.current_url)\n",
    "                    url_list = find_urls(driver)\n",
    "                    print(url_list) # end\n",
    "                    \n",
    "                    # selecting the page navigation\n",
    "                    page_amount = len(each_page)\n",
    "                    current_page = page_navigation_bar.find_element(By.XPATH, \"//*[@class='active']\")\n",
    "                    print(current_page)\n",
    "                    \n",
    "                    \n",
    "\n",
    "                else:\n",
    "                    print(drop_down_element.get_attribute(\"title\"))\n",
    "                    print('Dropdown selection did not update successfully')\n",
    "                    print(driver.current_url)\n",
    "            else:\n",
    "                print('Page did not load successfully')\n",
    "\n",
    "except WebDriverException as e:\n",
    "    print('Error loading page:', e)\n",
    "\n",
    "except ElementNotInteractableException as e:\n",
    "    print('Element not interactable:', e)\n",
    "\n",
    "finally:\n",
    "    # Close the browser\n",
    "    driver.quit()\n",
    "\n",
    "'''"
   ]
  }
 ],
 "metadata": {
  "kernelspec": {
   "display_name": "oci",
   "language": "python",
   "name": "python3"
  },
  "language_info": {
   "codemirror_mode": {
    "name": "ipython",
    "version": 3
   },
   "file_extension": ".py",
   "mimetype": "text/x-python",
   "name": "python",
   "nbconvert_exporter": "python",
   "pygments_lexer": "ipython3",
   "version": "3.13.0"
  }
 },
 "nbformat": 4,
 "nbformat_minor": 2
}
