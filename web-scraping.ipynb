{
 "cells": [
  {
   "cell_type": "code",
   "execution_count": 5,
   "metadata": {},
   "outputs": [],
   "source": [
    "import requests"
   ]
  },
  {
   "cell_type": "code",
   "execution_count": 6,
   "metadata": {},
   "outputs": [],
   "source": [
    "import random"
   ]
  },
  {
   "cell_type": "code",
   "execution_count": 7,
   "metadata": {},
   "outputs": [],
   "source": [
    "import time"
   ]
  },
  {
   "cell_type": "code",
   "execution_count": 1,
   "metadata": {},
   "outputs": [],
   "source": [
    "from selenium import webdriver\n",
    "from selenium.webdriver.common.action_chains import ActionChains\n",
    "from selenium.webdriver.chrome.options import Options\n",
    "from selenium.common.exceptions import WebDriverException\n",
    "from selenium.webdriver.common.by import By\n",
    "from selenium.common.exceptions import WebDriverException, ElementNotInteractableException, TimeoutException,JavascriptException\n",
    "from selenium.webdriver.support.ui import WebDriverWait\n",
    "from selenium.webdriver.support import expected_conditions as EC"
   ]
  },
  {
   "cell_type": "code",
   "execution_count": 2,
   "metadata": {},
   "outputs": [],
   "source": [
    "from bs4 import BeautifulSoup"
   ]
  },
  {
   "cell_type": "markdown",
   "metadata": {},
   "source": [
    "# admin site project -----"
   ]
  },
  {
   "cell_type": "code",
   "execution_count": 34,
   "metadata": {},
   "outputs": [],
   "source": [
    "url = \"https://qa1-aws.oceaniacruises.com/admin/\""
   ]
  },
  {
   "cell_type": "code",
   "execution_count": 4,
   "metadata": {},
   "outputs": [],
   "source": [
    "headers = {\n",
    "    \"User-Agent\": \"Mozilla/5.0 (Windows NT 10.0; Win64; x64) AppleWebKit/537.36 (KHTML, like Gecko) Chrome/58.0.3029.110 Safari/537.36\",\n",
    "    \"Accept-Language\": \"en-US,en;q=0.9\",\n",
    "}"
   ]
  },
  {
   "cell_type": "markdown",
   "metadata": {},
   "source": [
    "# admin site project: identify if admin contains redirect (complete) - the redirects are as follow: /admin - /admin/ - ReturnUrl="
   ]
  },
  {
   "cell_type": "code",
   "execution_count": 35,
   "metadata": {},
   "outputs": [
    {
     "name": "stdout",
     "output_type": "stream",
     "text": [
      "302 /loginredirector.aspx?ReturnUrl=%2fadmin%2f\n"
     ]
    }
   ],
   "source": [
    "with requests.Session() as session:\n",
    "    response = session.get(url, headers=headers, allow_redirects=False)\n",
    "    print(response.status_code, response.headers['Location'])\n",
    "    # redirect_url = response.headers[\"location\"]"
   ]
  },
  {
   "cell_type": "markdown",
   "metadata": {},
   "source": [
    "# admin site project: handle the redirect by comparing my url with the current one (this can later be used to switch the POST to GET and back to POST)"
   ]
  },
  {
   "cell_type": "code",
   "execution_count": null,
   "metadata": {},
   "outputs": [],
   "source": [
    "with requests.Session() as session:\n",
    "    response = session.get(url, headers=headers, allow_redirects=True)\n",
    "    if response.url =! url:\n",
    "        print('not the same url')"
   ]
  },
  {
   "cell_type": "code",
   "execution_count": 15,
   "metadata": {},
   "outputs": [],
   "source": [
    "response = requests.get(url, headers=headers)"
   ]
  },
  {
   "cell_type": "code",
   "execution_count": 16,
   "metadata": {},
   "outputs": [],
   "source": [
    "soup = BeautifulSoup(response.text, \"html.parser\")"
   ]
  },
  {
   "cell_type": "code",
   "execution_count": 17,
   "metadata": {},
   "outputs": [],
   "source": [
    "find_form = soup.find_all('form')"
   ]
  },
  {
   "cell_type": "code",
   "execution_count": 18,
   "metadata": {},
   "outputs": [],
   "source": [
    "form_list = list(find_form)"
   ]
  },
  {
   "cell_type": "code",
   "execution_count": 19,
   "metadata": {},
   "outputs": [
    {
     "name": "stdout",
     "output_type": "stream",
     "text": [
      "Form 2:\n",
      "<form autocomplete=\"off\" class=\"c2_form form-material\" data-js=\"signin-form\">\n",
      " <div class=\"form-group\">\n",
      "  <!-- Error Message -->\n",
      "  <div class=\"errorMessage hide\" data-js=\"data-msg-error\">\n",
      "   <span>\n",
      "    Sorry, we donât recognize that email and password combination. Please try again or recover your password.\n",
      "   </span>\n",
      "  </div>\n",
      " </div>\n",
      " <div class=\"form-group -icon\">\n",
      "  <label class=\"label-control\" for=\"input-575-218\">\n",
      "   Email Address\n",
      "  </label>\n",
      "  <div class=\"input-group\">\n",
      "   <div class=\"input-group-prepend\">\n",
      "    <span class=\"input-group-text ogi-icon-envelope\">\n",
      "    </span>\n",
      "   </div>\n",
      "   <input class=\"form-control\" data-msg=\"Please enter a valid email address.\" data-msg-customemail=\"Please enter a valid email address.\" data-msg-email=\"Please enter a valid email address.\" id=\"input-575-218\" name=\"username\" placeholder=\"Email Address\" type=\"text\"/>\n",
      "   <!-- Error Message -->\n",
      "   <div class=\"form-validation\" data-container=\"#tooltip-f-745-803\" data-js=\"form-validation\" data-original-title=\"Please enter a valid email address.\" data-placement=\"top\" data-template='&lt;div class=\"tooltip -error\" role=\"tooltip\"&gt;&lt;div class=\"arrow\"&gt;&lt;/div&gt;&lt;div class=\"tooltip-inner\"&gt;&lt;/div&gt;&lt;/div&gt;' data-toggle=\"tooltip\">\n",
      "   </div>\n",
      "  </div>\n",
      "  <div class=\"input-error\" data-js=\"input-error\">\n",
      "   Please enter a valid email address.\n",
      "  </div>\n",
      " </div>\n",
      " <div class=\"form-group -icon\">\n",
      "  <label class=\"label-control\" for=\"input-721-673\">\n",
      "   Password\n",
      "  </label>\n",
      "  <div class=\"input-group\">\n",
      "   <div class=\"input-group-prepend\">\n",
      "    <span class=\"input-group-text ogi-icon-secure\">\n",
      "    </span>\n",
      "   </div>\n",
      "   <input class=\"form-control\" data-msg=\"Password is incorrect. Please try again or click forgot password below.\" id=\"input-721-673\" maxlength=\"50\" name=\"password\" placeholder=\"Password\" type=\"password\"/>\n",
      "   <!-- Error Message -->\n",
      "   <div class=\"form-validation\" data-container=\"#tooltip-f-745-803\" data-js=\"form-validation\" data-original-title=\"Password is incorrect. Please try again or click forgot password below.\" data-placement=\"top\" data-template='&lt;div class=\"tooltip -error\" role=\"tooltip\"&gt;&lt;div class=\"arrow\"&gt;&lt;/div&gt;&lt;div class=\"tooltip-inner\"&gt;&lt;/div&gt;&lt;/div&gt;' data-toggle=\"tooltip\">\n",
      "   </div>\n",
      "  </div>\n",
      "  <div class=\"input-error\" data-js=\"input-error\">\n",
      "   Password is incorrect. Please try again or click forgot password below.\n",
      "  </div>\n",
      " </div>\n",
      " <div class=\"form-group\">\n",
      "  <div class=\"custom-control custom-checkbox custom-single\">\n",
      "   <input class=\"custom-control-input\" id=\"input-838-513\" name=\"rememberMe\" type=\"checkbox\"/>\n",
      "   <label class=\"custom-control-label\" for=\"input-838-513\">\n",
      "    <span class=\"custom-control-label-text\">\n",
      "     Keep me signed in\n",
      "    </span>\n",
      "   </label>\n",
      "  </div>\n",
      " </div>\n",
      " <div class=\"form-group\">\n",
      "  <!--c13-->\n",
      "  <div class=\"c13\">\n",
      "   <div class=\"c13_submit\">\n",
      "    <button aria-label=\"Login\" class=\"btn btn-primary disabled\" type=\"submit\">\n",
      "     Login\n",
      "    </button>\n",
      "   </div>\n",
      "   <div class=\"c13_aside\">\n",
      "    <a aria-label=\"Privacy Policy\" class=\"c13_link\" data-target=\"#modal-privacy-policy\" data-toggle=\"modal\" href=\"#\" title=\"Privacy Policy\">\n",
      "     Privacy Policy\n",
      "    </a>\n",
      "   </div>\n",
      "  </div>\n",
      " </div>\n",
      " <div class=\"block-group\">\n",
      "  <div class=\"row\">\n",
      "   <div class=\"col-md-12\">\n",
      "    <ul class=\"c14\">\n",
      "     <li class=\"c14_item\">\n",
      "      <a aria-label=\"Forgot Password\" data-js=\"null\" href=\"/forgot-password\" title=\"Forgot Password\">\n",
      "       Forgot Password\n",
      "      </a>\n",
      "     </li>\n",
      "     <li class=\"c14_item\">\n",
      "      <a aria-label=\"Create Account\" data-js=\"null\" href=\"/register\" title=\"Create Account\">\n",
      "       Create Account\n",
      "      </a>\n",
      "     </li>\n",
      "    </ul>\n",
      "   </div>\n",
      "  </div>\n",
      " </div>\n",
      "</form>\n",
      "\n",
      "\n",
      "\n"
     ]
    }
   ],
   "source": [
    "for i, form in enumerate(form_list):\n",
    "    #if 'country' not in form.prettify().lower():\n",
    "    if 'input-575-218' in form.prettify().lower():\n",
    "        print(f\"Form {i}:\\n{form.prettify()}\\n\\n\")"
   ]
  },
  {
   "cell_type": "markdown",
   "metadata": {},
   "source": [
    "-- cruise finder page, expand the drop down list check"
   ]
  },
  {
   "cell_type": "code",
   "execution_count": null,
   "metadata": {},
   "outputs": [],
   "source": []
  },
  {
   "cell_type": "code",
   "execution_count": 19,
   "metadata": {},
   "outputs": [],
   "source": [
    "chrome_options = Options()\n",
    "chrome_options.add_argument(\"User-Agent=Mozilla/5.0 (Windows NT 10.0; Win64; x64) AppleWebKit/537.36 (KHTML, like Gecko) Chrome/58.0.3029.110 Safari/537.36\")\n",
    "chrome_options.add_argument(\"--headless=new\")  # New headless implementation\n",
    "chrome_options.add_argument(\"--disable-gpu\")  # Disable GPU (useful for older environments)\n",
    "chrome_options.add_argument(\"--window-size=1920,1080\")  # Set window size for headless\n",
    "chrome_options.add_argument(\"--no-sandbox\")  # Bypass sandbox (useful in CI)\n",
    "chrome_options.add_argument(\"--disable-dev-shm-usage\")  # Prevent shared memory issues"
   ]
  },
  {
   "cell_type": "code",
   "execution_count": 15,
   "metadata": {},
   "outputs": [],
   "source": [
    "driver = webdriver.Chrome(options=chrome_options)"
   ]
  },
  {
   "cell_type": "markdown",
   "metadata": {},
   "source": [
    "-- testing out the urls function"
   ]
  },
  {
   "cell_type": "code",
   "execution_count": 34,
   "metadata": {},
   "outputs": [
    {
     "name": "stdout",
     "output_type": "stream",
     "text": [
      "['https://preprod-aws.oceaniacruises.com/caribbean-cruises/miami-to-bridgetown-SIR241221/?sr=%2Fcruise-finder%23sort%3Dfeatured%3Adesc%26page%3D1%26pageSize%3D10', 'https://preprod-aws.oceaniacruises.com/cruise-finder#', 'https://preprod-aws.oceaniacruises.com/australia-cruises/sydney-to-sydney-REG250125/?sr=%2Fcruise-finder%23sort%3Dfeatured%3Adesc%26page%3D1%26pageSize%3D10', 'https://preprod-aws.oceaniacruises.com/cruise-finder#', 'https://preprod-aws.oceaniacruises.com/transatlantic-cruises/rio-de-janeiro-to-cape-town-INS250127/?sr=%2Fcruise-finder%23sort%3Dfeatured%3Adesc%26page%3D1%26pageSize%3D10', 'https://preprod-aws.oceaniacruises.com/cruise-finder#', 'https://preprod-aws.oceaniacruises.com/caribbean-cruises/bridgetown-to-miami-SIR250129/?sr=%2Fcruise-finder%23sort%3Dfeatured%3Adesc%26page%3D1%26pageSize%3D10', 'https://preprod-aws.oceaniacruises.com/cruise-finder#', 'https://preprod-aws.oceaniacruises.com/caribbean-cruises/miami-to-miami-SIR250301/?sr=%2Fcruise-finder%23sort%3Dfeatured%3Adesc%26page%3D1%26pageSize%3D10', 'https://preprod-aws.oceaniacruises.com/cruise-finder#', 'https://preprod-aws.oceaniacruises.com/australia-cruises/papeete-to-auckland-NAU250307/?sr=%2Fcruise-finder%23sort%3Dfeatured%3Adesc%26page%3D1%26pageSize%3D10', 'https://preprod-aws.oceaniacruises.com/cruise-finder#', 'https://preprod-aws.oceaniacruises.com/caribbean-cruises/miami-to-miami-SIR250311/?sr=%2Fcruise-finder%23sort%3Dfeatured%3Adesc%26page%3D1%26pageSize%3D10', 'https://preprod-aws.oceaniacruises.com/cruise-finder#', 'https://preprod-aws.oceaniacruises.com/transatlantic-cruises/rio-de-janeiro-to-santa-cruz-de-tenerife-MNA250405/?sr=%2Fcruise-finder%23sort%3Dfeatured%3Adesc%26page%3D1%26pageSize%3D10', 'https://preprod-aws.oceaniacruises.com/cruise-finder#', 'https://preprod-aws.oceaniacruises.com/caribbean-cruises/miami-to-miami-VIS250408/?sr=%2Fcruise-finder%23sort%3Dfeatured%3Adesc%26page%3D1%26pageSize%3D10', 'https://preprod-aws.oceaniacruises.com/cruise-finder#', 'https://preprod-aws.oceaniacruises.com/asia-cruises/singapore-to-taipei-REG250409/?sr=%2Fcruise-finder%23sort%3Dfeatured%3Adesc%26page%3D1%26pageSize%3D10', 'https://preprod-aws.oceaniacruises.com/cruise-finder#']\n"
     ]
    }
   ],
   "source": [
    "driver = webdriver.Chrome(options=chrome_options)\n",
    "url = \"https://preprod-aws.oceaniacruises.com/cruise-finder#sort=featured:desc&page=1&pageSize=10\"\n",
    "def find_urls(driver, url):\n",
    "    inner_html_list = []\n",
    "    try:\n",
    "        # Navigate to the page\n",
    "        driver.get(url)\n",
    "\n",
    "        # Wait for the page to load (adjust if necessary)\n",
    "        time.sleep(10)\n",
    "\n",
    "        # Use JavaScript to fetch the innerHTML of all elements with the given class name\n",
    "        script = f\"\"\"\n",
    "        const listItems = document.querySelectorAll('.c29_body_options_item');\n",
    "        let hrefList = [];\n",
    "        listItems.forEach(li => {{\n",
    "            const anchor = li.querySelector('a'); // Search for <a> within each <li>\n",
    "            if (anchor && anchor.href) {{\n",
    "                hrefList.push(anchor.href);      // Push the href value to the list\n",
    "            }}\n",
    "        }});\n",
    "        return hrefList;\n",
    "        \"\"\"\n",
    "        \n",
    "        # Execute the JavaScript and fetch the results\n",
    "        inner_html_list = driver.execute_script(script)\n",
    "        \n",
    "    except Exception as e:\n",
    "        print(f\"An error occurred: {e}\")\n",
    "    finally:\n",
    "        driver.quit()\n",
    "    \n",
    "    return inner_html_list\n",
    "print(find_urls(driver, url))"
   ]
  },
  {
   "cell_type": "markdown",
   "metadata": {},
   "source": [
    "-- check if the cruises load and expand the dropdown menu for voyage listing"
   ]
  },
  {
   "cell_type": "code",
   "execution_count": 47,
   "metadata": {},
   "outputs": [
    {
     "name": "stdout",
     "output_type": "stream",
     "text": [
      "Page loaded successfully\n",
      "VIEW 616 CRUISES\n",
      "Dropdown clicked successfully\n",
      "Dropdown expanded successfully\n",
      "true\n",
      "VIEW 616 CRUISES\n"
     ]
    }
   ],
   "source": [
    "'''\n",
    "try:\n",
    "    url = \"https://preprod-aws.oceaniacruises.com/cruise-finder#sort=featured:desc&page=1&pageSize=10\"\n",
    "    driver.get(url)\n",
    "    time.sleep(12)\n",
    "    # ensure the results loaded by checking the value of view button\n",
    "    element = driver.find_element(By.CLASS_NAME, 'c265_aside_item')\n",
    "    is_page_loaded = \"0\" not in element.get_attribute(\"outerText\")\n",
    "    # drop_down_class = \".btn.dropdown-toggle.btn-outline-black.btn-md\" # Class of the dropdown - using CSS selector to acount for the spaces\n",
    "    drop_down_xpath = \"//button[contains(@class, 'btn') and contains(@class, 'dropdown-toggle') and contains(@class, 'btn-outline-black') and contains(@class, 'btn-md')]\"  # XPath for the dropdown\n",
    "    if is_page_loaded:\n",
    "        print('Page loaded successfully')\n",
    "        print(element.get_attribute(\"outerText\"))  # Print the outerText of the element\n",
    "        \n",
    "        # Find the dropdown element directly without waiting\n",
    "        drop_down_element = driver.find_element(By.XPATH, drop_down_xpath)\n",
    "        \n",
    "        # Scroll the dropdown element into view\n",
    "        driver.execute_script(\"arguments[0].scrollIntoView(true);\", drop_down_element)\n",
    "        \n",
    "        # Click the dropdown using JavaScript\n",
    "        driver.execute_script(\"arguments[0].click();\", drop_down_element)\n",
    "        print('Dropdown clicked successfully')\n",
    "        \n",
    "        # Get the attribute aria-expanded\n",
    "        drop_down_expanded = drop_down_element.get_attribute(\"aria-expanded\")\n",
    "        \n",
    "        if drop_down_expanded.lower() == \"true\":\n",
    "            print('Dropdown expanded successfully')\n",
    "            print(drop_down_expanded)\n",
    "        else:\n",
    "            print('Dropdown did not expand successfully')\n",
    "            print(drop_down_expanded)\n",
    "    else:\n",
    "        print('Page did not load successfully')\n",
    "\n",
    "except WebDriverException as e:\n",
    "    print('Error loading page:', e)\n",
    "\n",
    "except ElementNotInteractableException as e:\n",
    "    print('Element not interactable:', e)\n",
    "\n",
    "finally:\n",
    "    # Close the browser\n",
    "    driver.quit()\n",
    "'''"
   ]
  },
  {
   "cell_type": "markdown",
   "metadata": {},
   "source": [
    "-- extracting the urls from the page function , load urls to list"
   ]
  },
  {
   "cell_type": "code",
   "execution_count": 9,
   "metadata": {},
   "outputs": [],
   "source": [
    "def find_urls(driver):\n",
    "    urls_list = []\n",
    "    try:\n",
    "        urls = driver.find_elements(By.CLASS_NAME, 'c29_body_options')\n",
    "        for url in urls:\n",
    "            urls_list.append(url.get_attribute('href'))\n",
    "    except WebDriverException as e:\n",
    "        print('Error finding URLs:', e)\n",
    "    return urls_list"
   ]
  },
  {
   "cell_type": "markdown",
   "metadata": {},
   "source": [
    "-- below is to now select a value from the expanded list and selecting a value"
   ]
  },
  {
   "cell_type": "code",
   "execution_count": 33,
   "metadata": {},
   "outputs": [
    {
     "name": "stdout",
     "output_type": "stream",
     "text": [
      "Page loaded successfully\n",
      "VIEW 616 CRUISES\n",
      "Dropdown clicked successfully\n",
      "Dropdown expanded successfully\n",
      "true\n",
      "Dropdown selection clicked successfully\n",
      "Dropdown selection updated successfully\n",
      "50\n",
      "https://preprod-aws.oceaniacruises.com/cruise-finder#sort=featured:desc&page=1&pageSize=50\n"
     ]
    }
   ],
   "source": [
    "'''\n",
    "try:\n",
    "    url = \"https://preprod-aws.oceaniacruises.com/cruise-finder#sort=featured:desc&page=1&pageSize=10\"\n",
    "    driver.get(url)\n",
    "    time.sleep(12)\n",
    "    \n",
    "    \n",
    "    driver varibles \n",
    " \n",
    "    \n",
    "    # view crusies parent class\n",
    "    element = driver.find_element(By.CLASS_NAME, 'c265_aside_item')\n",
    "    # drop down toggle class\n",
    "    drop_down_xpath = \"//button[@class='btn dropdown-toggle btn-outline-black btn-md']\"\n",
    "    drop_down_element = driver.find_element(By.XPATH, drop_down_xpath)\n",
    "    # drop down individual values\n",
    "    list_item = driver.find_element(By.XPATH, \"//a[@id='bs-select-17-4']\")\n",
    "    # page navigation section\n",
    "    page_navigation_bar = driver.find_element(By.XPATH, \"//*[@class='listing -horizontal']\")\n",
    "    each_page = page_navigation_bar.find_elements(By.TAG_NAME, 'li')\n",
    "    # initialize varibles to have global scope as its needed for the while loop to work\n",
    "    page_amount = None\n",
    "    current_page = None\n",
    "    # ensure the results loaded by checking the value of view button\n",
    "    is_page_loaded = \"0\" not in element.get_attribute(\"outerText\")\n",
    "    if is_page_loaded:\n",
    "        print('Page loaded successfully')\n",
    "        print(element.get_attribute(\"outerText\"))  # Print the outerText of the element\n",
    "        driver.execute_script(\"arguments[0].scrollIntoView(true);\", drop_down_element)\n",
    "        \n",
    "        # Click the dropdown\n",
    "        driver.execute_script(\"arguments[0].click();\", drop_down_element)\n",
    "        print('Dropdown clicked successfully')\n",
    "        \n",
    "        # Click the individual item selection\n",
    "        driver.execute_script(\"arguments[0].click();\", list_item) \n",
    "        print('Dropdown selection clicked successfully')\n",
    "        \n",
    "        # Wait for 20 seconds\n",
    "        time.sleep(20)\n",
    "        \n",
    "        # lets check if the count updated\n",
    "        if (drop_down_element.get_attribute(\"title\") == \"50\"):\n",
    "            print('Dropdown selection updated successfully')\n",
    "            print(drop_down_element.get_attribute(\"title\"))\n",
    "            print(driver.current_url)\n",
    "            url_list = find_urls(driver)\n",
    "            print(url_list) # end\n",
    "            # selecting the page navigation\n",
    "            \n",
    "            page_amount = len(each_page)\n",
    "            current_page = page_navigation_bar.find_element(By.XPATH, \"//*[@class='active']\")\n",
    "            \n",
    "\n",
    "        else:\n",
    "            print(drop_down_element.get_attribute(\"title\"))\n",
    "            print('Dropdown selection did not update successfully')\n",
    "            print(driver.current_url)\n",
    "    else:\n",
    "        print('Page did not load successfully')\n",
    "\n",
    "except WebDriverException as e:\n",
    "    print('Error loading page:', e)\n",
    "\n",
    "except ElementNotInteractableException as e:\n",
    "    print('Element not interactable:', e)\n",
    "\n",
    "finally:\n",
    "    # Close the browser\n",
    "    driver.quit()\n",
    "'''"
   ]
  },
  {
   "cell_type": "markdown",
   "metadata": {},
   "source": [
    "-- below will now incorporate a while loop to repeat the process for each page"
   ]
  },
  {
   "cell_type": "code",
   "execution_count": 16,
   "metadata": {},
   "outputs": [
    {
     "name": "stdout",
     "output_type": "stream",
     "text": [
      "Page loaded successfully\n",
      "VIEW 616 CRUISES\n",
      "Dropdown clicked successfully\n",
      "Dropdown selection clicked successfully\n",
      "Dropdown selection updated successfully\n",
      "50\n",
      "https://preprod-aws.oceaniacruises.com/cruise-finder#sort=featured:desc&page=1&pageSize=50\n",
      "[None, None, None, None, None, None, None, None, None, None, None, None, None, None, None, None, None, None, None, None, None, None, None, None, None, None, None, None, None, None, None, None, None, None, None, None, None, None, None, None, None, None, None, None, None, None, None, None, None, None, None, None, None, None, None, None, None, None, None, None, None, None, None, None, None, None, None, None, None, None, None, None, None, None, None, None, None, None, None, None, None, None, None, None, None, None, None, None, None, None, None, None, None, None, None, None, None, None, None, None, None, None, None, None, None, None, None, None, None, None, None, None, None, None, None, None, None, None, None, None, None, None, None, None, None, None, None, None, None, None, None, None, None, None, None, None, None, None, None, None, None, None, None, None, None, None, None, None, None, None]\n",
      "Error loading page: Message: no such element: Unable to locate element: {\"method\":\"xpath\",\"selector\":\"//*[@class='active']\"}\n",
      "  (Session info: chrome=131.0.6778.86); For documentation on this error, please visit: https://www.selenium.dev/documentation/webdriver/troubleshooting/errors#no-such-element-exception\n",
      "Stacktrace:\n",
      "0   chromedriver                        0x0000000102cdfac4 cxxbridge1$str$ptr + 3651580\n",
      "1   chromedriver                        0x0000000102cd8314 cxxbridge1$str$ptr + 3620940\n",
      "2   chromedriver                        0x00000001027404b4 cxxbridge1$string$len + 89224\n",
      "3   chromedriver                        0x0000000102784898 cxxbridge1$string$len + 368748\n",
      "4   chromedriver                        0x000000010277aa10 cxxbridge1$string$len + 328164\n",
      "5   chromedriver                        0x00000001027be0fc cxxbridge1$string$len + 604368\n",
      "6   chromedriver                        0x00000001027790b0 cxxbridge1$string$len + 321668\n",
      "7   chromedriver                        0x0000000102779d00 cxxbridge1$string$len + 324820\n",
      "8   chromedriver                        0x0000000102caae08 cxxbridge1$str$ptr + 3435328\n",
      "9   chromedriver                        0x0000000102cae120 cxxbridge1$str$ptr + 3448408\n",
      "10  chromedriver                        0x0000000102c9217c cxxbridge1$str$ptr + 3333812\n",
      "11  chromedriver                        0x0000000102cae9e0 cxxbridge1$str$ptr + 3450648\n",
      "12  chromedriver                        0x0000000102c83988 cxxbridge1$str$ptr + 3274432\n",
      "13  chromedriver                        0x0000000102cc90f4 cxxbridge1$str$ptr + 3558956\n",
      "14  chromedriver                        0x0000000102cc9270 cxxbridge1$str$ptr + 3559336\n",
      "15  chromedriver                        0x0000000102cd7f88 cxxbridge1$str$ptr + 3620032\n",
      "16  libsystem_pthread.dylib             0x0000000195c4b2e4 _pthread_start + 136\n",
      "17  libsystem_pthread.dylib             0x0000000195c460fc thread_start + 8\n",
      "\n"
     ]
    }
   ],
   "source": [
    "try:\n",
    "    url = \"https://preprod-aws.oceaniacruises.com/cruise-finder#sort=featured:desc&page=1&pageSize=10\"\n",
    "    driver.get(url)\n",
    "    time.sleep(12)\n",
    "    # create global list to insert all the list into this one -- remeber to flatten at the end\n",
    "    global_list_urls = []\n",
    "\n",
    "    element = driver.find_element(By.CLASS_NAME, 'c265_aside_item')\n",
    "    is_page_loaded = \"0\" not in element.get_attribute(\"outerText\")\n",
    "    if is_page_loaded:\n",
    "        print('Page loaded successfully')\n",
    "        # drop down toggle class\n",
    "        drop_down_xpath = \"//button[@class='btn dropdown-toggle btn-outline-black btn-md']\"\n",
    "        drop_down_element = driver.find_element(By.XPATH, drop_down_xpath)\n",
    "        print(element.get_attribute(\"outerText\"))  # Print the outerText of the element\n",
    "        driver.execute_script(\"arguments[0].scrollIntoView(true);\", drop_down_element)\n",
    "        \n",
    "        # Click the dropdown\n",
    "        driver.execute_script(\"arguments[0].click();\", drop_down_element)\n",
    "        print('Dropdown clicked successfully')\n",
    "        \n",
    "        # Click the individual item selection\n",
    "        # drop down individual values\n",
    "        list_item = driver.find_element(By.XPATH, \"//a[@id='bs-select-17-4']\")\n",
    "        driver.execute_script(\"arguments[0].click();\", list_item) \n",
    "        print('Dropdown selection clicked successfully')\n",
    "        \n",
    "        # Wait for 20 seconds\n",
    "        time.sleep(10)\n",
    "        \n",
    "        # lets check if the count updated\n",
    "        if (drop_down_element.get_attribute(\"title\") == \"50\"):\n",
    "            print('Dropdown selection updated successfully')\n",
    "            print(drop_down_element.get_attribute(\"title\"))\n",
    "            print(driver.current_url)\n",
    "            url_list = find_urls(driver)\n",
    "            print(url_list) # end\n",
    "\n",
    "            '''\n",
    "            # page navigation section\n",
    "            page_navigation_bar = driver.find_element(By.XPATH, \"//*[@class='listing -horizontal']\")\n",
    "            each_page = page_navigation_bar.find_elements(By.TAG_NAME, 'li')\n",
    "            page_amount = len(each_page)\n",
    "            current_page = page_navigation_bar.find_element(By.XPATH, \"//*[@class='active']\")\n",
    "            print(page_amount)\n",
    "            print(current_page)\n",
    "            \n",
    "            '''\n",
    "        else:\n",
    "            print(drop_down_element.get_attribute(\"title\"))\n",
    "            print('Dropdown selection did not update successfully')\n",
    "            print(driver.current_url)\n",
    "    else:\n",
    "        print('Page did not load successfully')\n",
    "\n",
    "except WebDriverException as e:\n",
    "    print('Error loading page:', e)\n",
    "\n",
    "except ElementNotInteractableException as e:\n",
    "    print('Element not interactable:', e)\n",
    "\n",
    "finally:\n",
    "    # Close the browser\n",
    "    driver.quit()"
   ]
  },
  {
   "cell_type": "markdown",
   "metadata": {},
   "source": []
  },
  {
   "cell_type": "code",
   "execution_count": null,
   "metadata": {},
   "outputs": [],
   "source": [
    "'''\n",
    "back up code\n",
    "try:\n",
    "    url = \"https://preprod-aws.oceaniacruises.com/cruise-finder#sort=featured:desc&page=1&pageSize=10\"\n",
    "    driver.get(url)\n",
    "    time.sleep(12)\n",
    "    '''\n",
    "    \n",
    "    driver varibles \n",
    " \n",
    "    '''\n",
    "    # view crusies parent class\n",
    "    element = driver.find_element(By.CLASS_NAME, 'c265_aside_item')\n",
    "    # drop down toggle class\n",
    "    drop_down_xpath = \"//button[@class='btn dropdown-toggle btn-outline-black btn-md']\"\n",
    "    drop_down_element = driver.find_element(By.XPATH, drop_down_xpath)\n",
    "    # drop down individual values\n",
    "    list_item = driver.find_element(By.XPATH, \"//a[@id='bs-select-17-4']\")\n",
    "    # page navigation section\n",
    "    page_navigation_bar = driver.find_element(By.XPATH, \"//*[@class='listing -horizontal']\")\n",
    "    each_page = page_navigation_bar.find_elements(By.TAG_NAME, 'li')\n",
    "    # initialize varibles to have global scope as its needed for the while loop to work\n",
    "    page_amount = None\n",
    "    current_page = None\n",
    "    # create global list to insert all the list into this one -- remeber to flatten at the end\n",
    "    global_list_urls = []\n",
    "\n",
    "    while True:\n",
    "        if int(current_page.text) > page_amount:\n",
    "            print(\"completed all pages\")\n",
    "            break\n",
    "        else:\n",
    "            is_page_loaded = \"0\" not in element.get_attribute(\"outerText\")\n",
    "            if is_page_loaded:\n",
    "                print('Page loaded successfully')\n",
    "                print(element.get_attribute(\"outerText\"))  # Print the outerText of the element\n",
    "                driver.execute_script(\"arguments[0].scrollIntoView(true);\", drop_down_element)\n",
    "                \n",
    "                # Click the dropdown\n",
    "                driver.execute_script(\"arguments[0].click();\", drop_down_element)\n",
    "                print('Dropdown clicked successfully')\n",
    "                \n",
    "                # Click the individual item selection\n",
    "                driver.execute_script(\"arguments[0].click();\", list_item) \n",
    "                print('Dropdown selection clicked successfully')\n",
    "                \n",
    "                # Wait for 20 seconds\n",
    "                time.sleep(20)\n",
    "                \n",
    "                # lets check if the count updated\n",
    "                if (drop_down_element.get_attribute(\"title\") == \"50\"):\n",
    "                    print('Dropdown selection updated successfully')\n",
    "                    print(drop_down_element.get_attribute(\"title\"))\n",
    "                    print(driver.current_url)\n",
    "                    url_list = find_urls(driver)\n",
    "                    print(url_list) # end\n",
    "                    \n",
    "                    # selecting the page navigation\n",
    "                    page_amount = len(each_page)\n",
    "                    current_page = page_navigation_bar.find_element(By.XPATH, \"//*[@class='active']\")\n",
    "                    print(current_page)\n",
    "                    \n",
    "                    \n",
    "\n",
    "                else:\n",
    "                    print(drop_down_element.get_attribute(\"title\"))\n",
    "                    print('Dropdown selection did not update successfully')\n",
    "                    print(driver.current_url)\n",
    "            else:\n",
    "                print('Page did not load successfully')\n",
    "\n",
    "except WebDriverException as e:\n",
    "    print('Error loading page:', e)\n",
    "\n",
    "except ElementNotInteractableException as e:\n",
    "    print('Element not interactable:', e)\n",
    "\n",
    "finally:\n",
    "    # Close the browser\n",
    "    driver.quit()\n",
    "\n",
    "'''"
   ]
  }
 ],
 "metadata": {
  "kernelspec": {
   "display_name": "oci",
   "language": "python",
   "name": "python3"
  },
  "language_info": {
   "codemirror_mode": {
    "name": "ipython",
    "version": 3
   },
   "file_extension": ".py",
   "mimetype": "text/x-python",
   "name": "python",
   "nbconvert_exporter": "python",
   "pygments_lexer": "ipython3",
   "version": "3.13.0"
  }
 },
 "nbformat": 4,
 "nbformat_minor": 2
}
