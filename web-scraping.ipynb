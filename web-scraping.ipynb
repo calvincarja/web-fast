{
 "cells": [
  {
   "cell_type": "code",
   "execution_count": 5,
   "metadata": {},
   "outputs": [],
   "source": [
    "import requests"
   ]
  },
  {
   "cell_type": "code",
   "execution_count": 6,
   "metadata": {},
   "outputs": [],
   "source": [
    "import random"
   ]
  },
  {
   "cell_type": "code",
   "execution_count": 1,
   "metadata": {},
   "outputs": [],
   "source": [
    "import time"
   ]
  },
  {
   "cell_type": "code",
   "execution_count": 2,
   "metadata": {},
   "outputs": [],
   "source": [
    "from urllib.parse import urlparse, parse_qs, urlencode"
   ]
  },
  {
   "cell_type": "code",
   "execution_count": 3,
   "metadata": {},
   "outputs": [],
   "source": [
    "from selenium import webdriver\n",
    "from selenium.webdriver.common.action_chains import ActionChains\n",
    "from selenium.webdriver.chrome.options import Options\n",
    "from selenium.common.exceptions import WebDriverException\n",
    "from selenium.webdriver.common.by import By\n",
    "from selenium.common.exceptions import WebDriverException, ElementNotInteractableException, TimeoutException,JavascriptException\n",
    "from selenium.webdriver.support.ui import WebDriverWait\n",
    "from selenium.webdriver.support import expected_conditions as EC"
   ]
  },
  {
   "cell_type": "code",
   "execution_count": 2,
   "metadata": {},
   "outputs": [],
   "source": [
    "from bs4 import BeautifulSoup"
   ]
  },
  {
   "cell_type": "markdown",
   "metadata": {},
   "source": [
    "# admin site project -----"
   ]
  },
  {
   "cell_type": "code",
   "execution_count": 34,
   "metadata": {},
   "outputs": [],
   "source": [
    "url = \"https://qa1-aws.oceaniacruises.com/admin/\""
   ]
  },
  {
   "cell_type": "code",
   "execution_count": 4,
   "metadata": {},
   "outputs": [],
   "source": [
    "headers = {\n",
    "    \"User-Agent\": \"Mozilla/5.0 (Windows NT 10.0; Win64; x64) AppleWebKit/537.36 (KHTML, like Gecko) Chrome/58.0.3029.110 Safari/537.36\",\n",
    "    \"Accept-Language\": \"en-US,en;q=0.9\",\n",
    "}"
   ]
  },
  {
   "cell_type": "markdown",
   "metadata": {},
   "source": [
    "# admin site project: identify if admin contains redirect (complete) - the redirects are as follow: /admin - /admin/ - ReturnUrl="
   ]
  },
  {
   "cell_type": "code",
   "execution_count": 35,
   "metadata": {},
   "outputs": [
    {
     "name": "stdout",
     "output_type": "stream",
     "text": [
      "302 /loginredirector.aspx?ReturnUrl=%2fadmin%2f\n"
     ]
    }
   ],
   "source": [
    "with requests.Session() as session:\n",
    "    response = session.get(url, headers=headers, allow_redirects=False)\n",
    "    print(response.status_code, response.headers['Location'])\n",
    "    # redirect_url = response.headers[\"location\"]"
   ]
  },
  {
   "cell_type": "markdown",
   "metadata": {},
   "source": [
    "# admin site project: handle the redirect by comparing my url with the current one (this can later be used to switch the POST to GET and back to POST))"
   ]
  },
  {
   "cell_type": "code",
   "execution_count": null,
   "metadata": {},
   "outputs": [],
   "source": [
    "with requests.Session() as session:\n",
    "    response = session.get(url, headers=headers, allow_redirects=True)\n",
    "    if response.url =! url:\n",
    "        print('not the same url')"
   ]
  },
  {
   "cell_type": "code",
   "execution_count": 15,
   "metadata": {},
   "outputs": [],
   "source": [
    "response = requests.get(url, headers=headers)"
   ]
  },
  {
   "cell_type": "code",
   "execution_count": 16,
   "metadata": {},
   "outputs": [],
   "source": [
    "soup = BeautifulSoup(response.text, \"html.parser\")"
   ]
  },
  {
   "cell_type": "code",
   "execution_count": 17,
   "metadata": {},
   "outputs": [],
   "source": [
    "find_form = soup.find_all('form')"
   ]
  },
  {
   "cell_type": "code",
   "execution_count": 18,
   "metadata": {},
   "outputs": [],
   "source": [
    "form_list = list(find_form)"
   ]
  },
  {
   "cell_type": "code",
   "execution_count": 19,
   "metadata": {},
   "outputs": [
    {
     "name": "stdout",
     "output_type": "stream",
     "text": [
      "Form 2:\n",
      "<form autocomplete=\"off\" class=\"c2_form form-material\" data-js=\"signin-form\">\n",
      " <div class=\"form-group\">\n",
      "  <!-- Error Message -->\n",
      "  <div class=\"errorMessage hide\" data-js=\"data-msg-error\">\n",
      "   <span>\n",
      "    Sorry, we donât recognize that email and password combination. Please try again or recover your password.\n",
      "   </span>\n",
      "  </div>\n",
      " </div>\n",
      " <div class=\"form-group -icon\">\n",
      "  <label class=\"label-control\" for=\"input-575-218\">\n",
      "   Email Address\n",
      "  </label>\n",
      "  <div class=\"input-group\">\n",
      "   <div class=\"input-group-prepend\">\n",
      "    <span class=\"input-group-text ogi-icon-envelope\">\n",
      "    </span>\n",
      "   </div>\n",
      "   <input class=\"form-control\" data-msg=\"Please enter a valid email address.\" data-msg-customemail=\"Please enter a valid email address.\" data-msg-email=\"Please enter a valid email address.\" id=\"input-575-218\" name=\"username\" placeholder=\"Email Address\" type=\"text\"/>\n",
      "   <!-- Error Message -->\n",
      "   <div class=\"form-validation\" data-container=\"#tooltip-f-745-803\" data-js=\"form-validation\" data-original-title=\"Please enter a valid email address.\" data-placement=\"top\" data-template='&lt;div class=\"tooltip -error\" role=\"tooltip\"&gt;&lt;div class=\"arrow\"&gt;&lt;/div&gt;&lt;div class=\"tooltip-inner\"&gt;&lt;/div&gt;&lt;/div&gt;' data-toggle=\"tooltip\">\n",
      "   </div>\n",
      "  </div>\n",
      "  <div class=\"input-error\" data-js=\"input-error\">\n",
      "   Please enter a valid email address.\n",
      "  </div>\n",
      " </div>\n",
      " <div class=\"form-group -icon\">\n",
      "  <label class=\"label-control\" for=\"input-721-673\">\n",
      "   Password\n",
      "  </label>\n",
      "  <div class=\"input-group\">\n",
      "   <div class=\"input-group-prepend\">\n",
      "    <span class=\"input-group-text ogi-icon-secure\">\n",
      "    </span>\n",
      "   </div>\n",
      "   <input class=\"form-control\" data-msg=\"Password is incorrect. Please try again or click forgot password below.\" id=\"input-721-673\" maxlength=\"50\" name=\"password\" placeholder=\"Password\" type=\"password\"/>\n",
      "   <!-- Error Message -->\n",
      "   <div class=\"form-validation\" data-container=\"#tooltip-f-745-803\" data-js=\"form-validation\" data-original-title=\"Password is incorrect. Please try again or click forgot password below.\" data-placement=\"top\" data-template='&lt;div class=\"tooltip -error\" role=\"tooltip\"&gt;&lt;div class=\"arrow\"&gt;&lt;/div&gt;&lt;div class=\"tooltip-inner\"&gt;&lt;/div&gt;&lt;/div&gt;' data-toggle=\"tooltip\">\n",
      "   </div>\n",
      "  </div>\n",
      "  <div class=\"input-error\" data-js=\"input-error\">\n",
      "   Password is incorrect. Please try again or click forgot password below.\n",
      "  </div>\n",
      " </div>\n",
      " <div class=\"form-group\">\n",
      "  <div class=\"custom-control custom-checkbox custom-single\">\n",
      "   <input class=\"custom-control-input\" id=\"input-838-513\" name=\"rememberMe\" type=\"checkbox\"/>\n",
      "   <label class=\"custom-control-label\" for=\"input-838-513\">\n",
      "    <span class=\"custom-control-label-text\">\n",
      "     Keep me signed in\n",
      "    </span>\n",
      "   </label>\n",
      "  </div>\n",
      " </div>\n",
      " <div class=\"form-group\">\n",
      "  <!--c13-->\n",
      "  <div class=\"c13\">\n",
      "   <div class=\"c13_submit\">\n",
      "    <button aria-label=\"Login\" class=\"btn btn-primary disabled\" type=\"submit\">\n",
      "     Login\n",
      "    </button>\n",
      "   </div>\n",
      "   <div class=\"c13_aside\">\n",
      "    <a aria-label=\"Privacy Policy\" class=\"c13_link\" data-target=\"#modal-privacy-policy\" data-toggle=\"modal\" href=\"#\" title=\"Privacy Policy\">\n",
      "     Privacy Policy\n",
      "    </a>\n",
      "   </div>\n",
      "  </div>\n",
      " </div>\n",
      " <div class=\"block-group\">\n",
      "  <div class=\"row\">\n",
      "   <div class=\"col-md-12\">\n",
      "    <ul class=\"c14\">\n",
      "     <li class=\"c14_item\">\n",
      "      <a aria-label=\"Forgot Password\" data-js=\"null\" href=\"/forgot-password\" title=\"Forgot Password\">\n",
      "       Forgot Password\n",
      "      </a>\n",
      "     </li>\n",
      "     <li class=\"c14_item\">\n",
      "      <a aria-label=\"Create Account\" data-js=\"null\" href=\"/register\" title=\"Create Account\">\n",
      "       Create Account\n",
      "      </a>\n",
      "     </li>\n",
      "    </ul>\n",
      "   </div>\n",
      "  </div>\n",
      " </div>\n",
      "</form>\n",
      "\n",
      "\n",
      "\n"
     ]
    }
   ],
   "source": [
    "for i, form in enumerate(form_list):\n",
    "    #if 'country' not in form.prettify().lower():\n",
    "    if 'input-575-218' in form.prettify().lower():\n",
    "        print(f\"Form {i}:\\n{form.prettify()}\\n\\n\")"
   ]
  },
  {
   "cell_type": "markdown",
   "metadata": {},
   "source": [
    "-- cruise finder page, expand the drop down list check"
   ]
  },
  {
   "cell_type": "code",
   "execution_count": null,
   "metadata": {},
   "outputs": [],
   "source": []
  },
  {
   "cell_type": "code",
   "execution_count": 4,
   "metadata": {},
   "outputs": [],
   "source": [
    "chrome_options = Options()\n",
    "chrome_options.add_argument(\"User-Agent=Mozilla/5.0 (Windows NT 10.0; Win64; x64) AppleWebKit/537.36 (KHTML, like Gecko) Chrome/58.0.3029.110 Safari/537.36\")\n",
    "chrome_options.add_argument(\"--headless=new\")  # New headless implementation\n",
    "chrome_options.add_argument(\"--disable-gpu\")  # Disable GPU (useful for older environments)\n",
    "chrome_options.add_argument(\"--window-size=1920,1080\")  # Set window size for headless\n",
    "chrome_options.add_argument(\"--no-sandbox\")  # Bypass sandbox (useful in CI)\n",
    "chrome_options.add_argument(\"--disable-dev-shm-usage\")  # Prevent shared memory issues"
   ]
  },
  {
   "cell_type": "code",
   "execution_count": 39,
   "metadata": {},
   "outputs": [],
   "source": [
    "driver = webdriver.Chrome(options=chrome_options)"
   ]
  },
  {
   "cell_type": "markdown",
   "metadata": {},
   "source": [
    "-- testing out the urls function"
   ]
  },
  {
   "cell_type": "code",
   "execution_count": 34,
   "metadata": {},
   "outputs": [
    {
     "name": "stdout",
     "output_type": "stream",
     "text": [
      "['https://preprod-aws.oceaniacruises.com/caribbean-cruises/miami-to-bridgetown-SIR241221/?sr=%2Fcruise-finder%23sort%3Dfeatured%3Adesc%26page%3D1%26pageSize%3D10', 'https://preprod-aws.oceaniacruises.com/cruise-finder#', 'https://preprod-aws.oceaniacruises.com/australia-cruises/sydney-to-sydney-REG250125/?sr=%2Fcruise-finder%23sort%3Dfeatured%3Adesc%26page%3D1%26pageSize%3D10', 'https://preprod-aws.oceaniacruises.com/cruise-finder#', 'https://preprod-aws.oceaniacruises.com/transatlantic-cruises/rio-de-janeiro-to-cape-town-INS250127/?sr=%2Fcruise-finder%23sort%3Dfeatured%3Adesc%26page%3D1%26pageSize%3D10', 'https://preprod-aws.oceaniacruises.com/cruise-finder#', 'https://preprod-aws.oceaniacruises.com/caribbean-cruises/bridgetown-to-miami-SIR250129/?sr=%2Fcruise-finder%23sort%3Dfeatured%3Adesc%26page%3D1%26pageSize%3D10', 'https://preprod-aws.oceaniacruises.com/cruise-finder#', 'https://preprod-aws.oceaniacruises.com/caribbean-cruises/miami-to-miami-SIR250301/?sr=%2Fcruise-finder%23sort%3Dfeatured%3Adesc%26page%3D1%26pageSize%3D10', 'https://preprod-aws.oceaniacruises.com/cruise-finder#', 'https://preprod-aws.oceaniacruises.com/australia-cruises/papeete-to-auckland-NAU250307/?sr=%2Fcruise-finder%23sort%3Dfeatured%3Adesc%26page%3D1%26pageSize%3D10', 'https://preprod-aws.oceaniacruises.com/cruise-finder#', 'https://preprod-aws.oceaniacruises.com/caribbean-cruises/miami-to-miami-SIR250311/?sr=%2Fcruise-finder%23sort%3Dfeatured%3Adesc%26page%3D1%26pageSize%3D10', 'https://preprod-aws.oceaniacruises.com/cruise-finder#', 'https://preprod-aws.oceaniacruises.com/transatlantic-cruises/rio-de-janeiro-to-santa-cruz-de-tenerife-MNA250405/?sr=%2Fcruise-finder%23sort%3Dfeatured%3Adesc%26page%3D1%26pageSize%3D10', 'https://preprod-aws.oceaniacruises.com/cruise-finder#', 'https://preprod-aws.oceaniacruises.com/caribbean-cruises/miami-to-miami-VIS250408/?sr=%2Fcruise-finder%23sort%3Dfeatured%3Adesc%26page%3D1%26pageSize%3D10', 'https://preprod-aws.oceaniacruises.com/cruise-finder#', 'https://preprod-aws.oceaniacruises.com/asia-cruises/singapore-to-taipei-REG250409/?sr=%2Fcruise-finder%23sort%3Dfeatured%3Adesc%26page%3D1%26pageSize%3D10', 'https://preprod-aws.oceaniacruises.com/cruise-finder#']\n"
     ]
    }
   ],
   "source": [
    "'''\n",
    "-- archive for testing the extraction url funtion\n",
    "driver = webdriver.Chrome(options=chrome_options)\n",
    "url = \"https://preprod-aws.oceaniacruises.com/cruise-finder#sort=featured:desc&page=1&pageSize=10\"\n",
    "def find_urls(driver, url):\n",
    "    inner_html_list = []\n",
    "    try:\n",
    "        # Navigate to the page\n",
    "        driver.get(url)\n",
    "\n",
    "        # Wait for the page to load (adjust if necessary)\n",
    "        time.sleep(10)\n",
    "\n",
    "        # Use JavaScript to fetch the innerHTML of all elements with the given class name\n",
    "        script = f\"\"\"\n",
    "        const listItems = document.querySelectorAll('.c29_body_options_item');\n",
    "        let hrefList = [];\n",
    "        listItems.forEach(li => {{\n",
    "            const anchor = li.querySelector('a'); // Search for <a> within each <li>\n",
    "            if (anchor && anchor.href) {{\n",
    "                hrefList.push(anchor.href);      // Push the href value to the list\n",
    "            }}\n",
    "        }});\n",
    "        return hrefList;\n",
    "        \"\"\"\n",
    "        \n",
    "        # Execute the JavaScript and fetch the results\n",
    "        inner_html_list = driver.execute_script(script)\n",
    "        \n",
    "    except Exception as e:\n",
    "        print(f\"An error occurred: {e}\")\n",
    "    finally:\n",
    "        driver.quit()\n",
    "    \n",
    "    return inner_html_list\n",
    "print(find_urls(driver, url))\n",
    "'''"
   ]
  },
  {
   "cell_type": "code",
   "execution_count": 15,
   "metadata": {},
   "outputs": [
    {
     "name": "stdout",
     "output_type": "stream",
     "text": [
      "https://preprod-aws.oceaniacruises.com/cruise-finder#sort=featured:desc&page=1&pageSize=10\n",
      "there are 7 total pages\n",
      "you're currently on page 1\n",
      "will now be clicking the next page 2\n",
      "https://preprod-aws.oceaniacruises.com/cruise-finder#sort=featured:desc&page=2&pageSize=10\n",
      "will now be clicking the next page 3\n",
      "https://preprod-aws.oceaniacruises.com/cruise-finder#sort=featured:desc&page=3&pageSize=10\n",
      "will now be clicking the next page 4\n",
      "https://preprod-aws.oceaniacruises.com/cruise-finder#sort=featured:desc&page=4&pageSize=10\n",
      "will now be clicking the next page 5\n",
      "https://preprod-aws.oceaniacruises.com/cruise-finder#sort=featured:desc&page=5&pageSize=10\n",
      "will now be clicking the next page 6\n",
      "https://preprod-aws.oceaniacruises.com/cruise-finder#sort=featured:desc&page=6&pageSize=10\n",
      "will now be clicking the next page 7\n",
      "https://preprod-aws.oceaniacruises.com/cruise-finder#sort=featured:desc&page=7&pageSize=10\n",
      "done\n"
     ]
    }
   ],
   "source": [
    "# testing the page navigation -- Nov 25 update, this works, now will navigate to the next page\n",
    "driver = webdriver.Chrome(options=chrome_options)\n",
    "try:\n",
    "    url = \"https://preprod-aws.oceaniacruises.com/cruise-finder#sort=featured:desc&page=1&pageSize=10\"\n",
    "    current_page = 0\n",
    "    # page navigation section\n",
    "    driver.get(url)\n",
    "    print(driver.current_url)\n",
    "    time.sleep(10)\n",
    "    page_navigation_bar = driver.find_element(By.XPATH, \"//*[@class='listing -horizontal']\") # worked\n",
    "    each_page = page_navigation_bar.find_elements(By.TAG_NAME, 'li') # worked\n",
    "    page_amount = len(each_page)\n",
    "    print(f\"there are {page_amount} total pages\")\n",
    "    \n",
    "    # what page are we currently on?\n",
    "    for page in each_page:\n",
    "        # get the anchor tag\n",
    "        a_tag = page.find_elements(By.TAG_NAME, 'a')\n",
    "        for index, a in enumerate(a_tag):\n",
    "            class_attribute = a.get_attribute(\"class\")\n",
    "            if 'active' in class_attribute:\n",
    "                current_page = index + 1\n",
    "                print(f\"you're currently on page {current_page}\")\n",
    "                break\n",
    "    \n",
    "    \n",
    "    # lets go to the next page - use the urllib library to parse the url\n",
    "    # since i am updating the fragment section, i do not need to use the urllib library\n",
    "    while True:\n",
    "        if current_page < page_amount:\n",
    "            print(f\"will now be clicking the next page {current_page + 1}\")\n",
    "            # lets parse the url to get the query string\n",
    "            '''\n",
    "            parsed_url = urlparse(driver.current_url)\n",
    "            # get the query string - returns a dictionary\n",
    "            query_string = parse_qs(parsed_url.query)\n",
    "            # update the page numnber\n",
    "            query_string['page'] = [str(current_page + 1)]\n",
    "            # set the pagesize\n",
    "            query_string['pageSize'] = ['50']\n",
    "            # encode the query string\n",
    "            encoded_query_string = urlencode(query_string, doseq=True)\n",
    "            # create the new url\n",
    "            new_url = parsed_url._replace(query=encoded_query_string).geturl()\n",
    "            # navigate to the new url\n",
    "            driver.get(new_url)\n",
    "            '''\n",
    "            # update the fragment section of the url\n",
    "            base_url = driver.current_url.split('#')[0]\n",
    "            fragment = f\"sort=featured:desc&page={str(current_page + 1)}&pageSize=10\"\n",
    "            new_url = f\"{base_url}#{fragment}\"\n",
    "            driver.get(new_url)\n",
    "            print(driver.current_url)\n",
    "            time.sleep(5)\n",
    "            current_page += 1\n",
    "        else:\n",
    "            break\n",
    "    \n",
    "    \n",
    "    print(\"done\")\n",
    "    driver.quit()\n",
    "\n",
    "    \n",
    "except Exception as e:\n",
    "    print(f\"An error occurred: {e}\")\n",
    "finally:\n",
    "    driver.quit()"
   ]
  },
  {
   "cell_type": "markdown",
   "metadata": {},
   "source": [
    "-- check if the cruises load and expand the dropdown menu for voyage listing"
   ]
  },
  {
   "cell_type": "code",
   "execution_count": 47,
   "metadata": {},
   "outputs": [
    {
     "name": "stdout",
     "output_type": "stream",
     "text": [
      "Page loaded successfully\n",
      "VIEW 616 CRUISES\n",
      "Dropdown clicked successfully\n",
      "Dropdown expanded successfully\n",
      "true\n",
      "VIEW 616 CRUISES\n"
     ]
    }
   ],
   "source": [
    "'''\n",
    "try:\n",
    "    url = \"https://preprod-aws.oceaniacruises.com/cruise-finder#sort=featured:desc&page=1&pageSize=10\"\n",
    "    driver.get(url)\n",
    "    time.sleep(12)\n",
    "    # ensure the results loaded by checking the value of view button\n",
    "    element = driver.find_element(By.CLASS_NAME, 'c265_aside_item')\n",
    "    is_page_loaded = \"0\" not in element.get_attribute(\"outerText\")\n",
    "    # drop_down_class = \".btn.dropdown-toggle.btn-outline-black.btn-md\" # Class of the dropdown - using CSS selector to acount for the spaces\n",
    "    drop_down_xpath = \"//button[contains(@class, 'btn') and contains(@class, 'dropdown-toggle') and contains(@class, 'btn-outline-black') and contains(@class, 'btn-md')]\"  # XPath for the dropdown\n",
    "    if is_page_loaded:\n",
    "        print('Page loaded successfully')\n",
    "        print(element.get_attribute(\"outerText\"))  # Print the outerText of the element\n",
    "        \n",
    "        # Find the dropdown element directly without waiting\n",
    "        drop_down_element = driver.find_element(By.XPATH, drop_down_xpath)\n",
    "        \n",
    "        # Scroll the dropdown element into view\n",
    "        driver.execute_script(\"arguments[0].scrollIntoView(true);\", drop_down_element)\n",
    "        \n",
    "        # Click the dropdown using JavaScript\n",
    "        driver.execute_script(\"arguments[0].click();\", drop_down_element)\n",
    "        print('Dropdown clicked successfully')\n",
    "        \n",
    "        # Get the attribute aria-expanded\n",
    "        drop_down_expanded = drop_down_element.get_attribute(\"aria-expanded\")\n",
    "        \n",
    "        if drop_down_expanded.lower() == \"true\":\n",
    "            print('Dropdown expanded successfully')\n",
    "            print(drop_down_expanded)\n",
    "        else:\n",
    "            print('Dropdown did not expand successfully')\n",
    "            print(drop_down_expanded)\n",
    "    else:\n",
    "        print('Page did not load successfully')\n",
    "\n",
    "except WebDriverException as e:\n",
    "    print('Error loading page:', e)\n",
    "\n",
    "except ElementNotInteractableException as e:\n",
    "    print('Element not interactable:', e)\n",
    "\n",
    "finally:\n",
    "    # Close the browser\n",
    "    driver.quit()\n",
    "'''"
   ]
  },
  {
   "cell_type": "markdown",
   "metadata": {},
   "source": [
    "-- extracting the urls from the page function , load urls to list"
   ]
  },
  {
   "cell_type": "code",
   "execution_count": 38,
   "metadata": {},
   "outputs": [],
   "source": [
    "def find_urls(driver):\n",
    "    href_list = []\n",
    "    try:\n",
    "        # Use JavaScript to find <a> tags within <li> elements and extract hrefs\n",
    "        script = f\"\"\"\n",
    "        const listItems = document.querySelectorAll('.c29_body_options_item');\n",
    "        let hrefList = [];\n",
    "        listItems.forEach(li => {{\n",
    "            const anchor = li.querySelector('a'); // Search for <a> within each <li>\n",
    "            if (anchor && anchor.href) {{\n",
    "                hrefList.push(anchor.href);      // Push the href value to the list\n",
    "            }}\n",
    "        }});\n",
    "        return hrefList;\n",
    "        \"\"\"\n",
    "        \n",
    "        # Execute the JavaScript and fetch the results\n",
    "        href_list = driver.execute_script(script)\n",
    "        \n",
    "    except Exception as e:\n",
    "        print(f\"An error occurred: {e}\")\n",
    "    \n",
    "    return href_list"
   ]
  },
  {
   "cell_type": "markdown",
   "metadata": {},
   "source": [
    "-- below is to now select a value from the expanded list and selecting a value"
   ]
  },
  {
   "cell_type": "code",
   "execution_count": 33,
   "metadata": {},
   "outputs": [
    {
     "name": "stdout",
     "output_type": "stream",
     "text": [
      "Page loaded successfully\n",
      "VIEW 616 CRUISES\n",
      "Dropdown clicked successfully\n",
      "Dropdown expanded successfully\n",
      "true\n",
      "Dropdown selection clicked successfully\n",
      "Dropdown selection updated successfully\n",
      "50\n",
      "https://preprod-aws.oceaniacruises.com/cruise-finder#sort=featured:desc&page=1&pageSize=50\n"
     ]
    }
   ],
   "source": [
    "'''\n",
    "try:\n",
    "    url = \"https://preprod-aws.oceaniacruises.com/cruise-finder#sort=featured:desc&page=1&pageSize=10\"\n",
    "    driver.get(url)\n",
    "    time.sleep(12)\n",
    "    \n",
    "    \n",
    "    driver varibles \n",
    " \n",
    "    \n",
    "    # view crusies parent class\n",
    "    element = driver.find_element(By.CLASS_NAME, 'c265_aside_item')\n",
    "    # drop down toggle class\n",
    "    drop_down_xpath = \"//button[@class='btn dropdown-toggle btn-outline-black btn-md']\"\n",
    "    drop_down_element = driver.find_element(By.XPATH, drop_down_xpath)\n",
    "    # drop down individual values\n",
    "    list_item = driver.find_element(By.XPATH, \"//a[@id='bs-select-17-4']\")\n",
    "    # page navigation section\n",
    "    page_navigation_bar = driver.find_element(By.XPATH, \"//*[@class='listing -horizontal']\")\n",
    "    each_page = page_navigation_bar.find_elements(By.TAG_NAME, 'li')\n",
    "    # initialize varibles to have global scope as its needed for the while loop to work\n",
    "    page_amount = None\n",
    "    current_page = None\n",
    "    # ensure the results loaded by checking the value of view button\n",
    "    is_page_loaded = \"0\" not in element.get_attribute(\"outerText\")\n",
    "    if is_page_loaded:\n",
    "        print('Page loaded successfully')\n",
    "        print(element.get_attribute(\"outerText\"))  # Print the outerText of the element\n",
    "        driver.execute_script(\"arguments[0].scrollIntoView(true);\", drop_down_element)\n",
    "        \n",
    "        # Click the dropdown\n",
    "        driver.execute_script(\"arguments[0].click();\", drop_down_element)\n",
    "        print('Dropdown clicked successfully')\n",
    "        \n",
    "        # Click the individual item selection\n",
    "        driver.execute_script(\"arguments[0].click();\", list_item) \n",
    "        print('Dropdown selection clicked successfully')\n",
    "        \n",
    "        # Wait for 20 seconds\n",
    "        time.sleep(20)\n",
    "        \n",
    "        # lets check if the count updated\n",
    "        if (drop_down_element.get_attribute(\"title\") == \"50\"):\n",
    "            print('Dropdown selection updated successfully')\n",
    "            print(drop_down_element.get_attribute(\"title\"))\n",
    "            print(driver.current_url)\n",
    "            url_list = find_urls(driver)\n",
    "            print(url_list) # end\n",
    "            # selecting the page navigation\n",
    "            \n",
    "            page_amount = len(each_page)\n",
    "            current_page = page_navigation_bar.find_element(By.XPATH, \"//*[@class='active']\")\n",
    "            \n",
    "\n",
    "        else:\n",
    "            print(drop_down_element.get_attribute(\"title\"))\n",
    "            print('Dropdown selection did not update successfully')\n",
    "            print(driver.current_url)\n",
    "    else:\n",
    "        print('Page did not load successfully')\n",
    "\n",
    "except WebDriverException as e:\n",
    "    print('Error loading page:', e)\n",
    "\n",
    "except ElementNotInteractableException as e:\n",
    "    print('Element not interactable:', e)\n",
    "\n",
    "finally:\n",
    "    # Close the browser\n",
    "    driver.quit()\n",
    "'''"
   ]
  },
  {
   "cell_type": "markdown",
   "metadata": {},
   "source": [
    "-- below will now incorporate a while loop to repeat the process for each page"
   ]
  },
  {
   "cell_type": "code",
   "execution_count": 40,
   "metadata": {},
   "outputs": [
    {
     "name": "stdout",
     "output_type": "stream",
     "text": [
      "Page loaded successfully\n",
      "VIEW 616 CRUISES\n",
      "Dropdown clicked successfully\n",
      "Dropdown selection clicked successfully\n",
      "Dropdown selection updated successfully\n",
      "50\n",
      "https://preprod-aws.oceaniacruises.com/cruise-finder#sort=featured:desc&page=1&pageSize=50\n",
      "['https://preprod-aws.oceaniacruises.com/caribbean-cruises/miami-to-bridgetown-SIR241221/?sr=%2Fcruise-finder%23sort%3Dfeatured%3Adesc%26page%3D1%26pageSize%3D50', 'https://preprod-aws.oceaniacruises.com/cruise-finder#', 'https://preprod-aws.oceaniacruises.com/australia-cruises/sydney-to-sydney-REG250125/?sr=%2Fcruise-finder%23sort%3Dfeatured%3Adesc%26page%3D1%26pageSize%3D50', 'https://preprod-aws.oceaniacruises.com/cruise-finder#', 'https://preprod-aws.oceaniacruises.com/transatlantic-cruises/rio-de-janeiro-to-cape-town-INS250127/?sr=%2Fcruise-finder%23sort%3Dfeatured%3Adesc%26page%3D1%26pageSize%3D50', 'https://preprod-aws.oceaniacruises.com/cruise-finder#', 'https://preprod-aws.oceaniacruises.com/caribbean-cruises/bridgetown-to-miami-SIR250129/?sr=%2Fcruise-finder%23sort%3Dfeatured%3Adesc%26page%3D1%26pageSize%3D50', 'https://preprod-aws.oceaniacruises.com/cruise-finder#', 'https://preprod-aws.oceaniacruises.com/caribbean-cruises/miami-to-miami-SIR250301/?sr=%2Fcruise-finder%23sort%3Dfeatured%3Adesc%26page%3D1%26pageSize%3D50', 'https://preprod-aws.oceaniacruises.com/cruise-finder#', 'https://preprod-aws.oceaniacruises.com/australia-cruises/papeete-to-auckland-NAU250307/?sr=%2Fcruise-finder%23sort%3Dfeatured%3Adesc%26page%3D1%26pageSize%3D50', 'https://preprod-aws.oceaniacruises.com/cruise-finder#', 'https://preprod-aws.oceaniacruises.com/caribbean-cruises/miami-to-miami-SIR250311/?sr=%2Fcruise-finder%23sort%3Dfeatured%3Adesc%26page%3D1%26pageSize%3D50', 'https://preprod-aws.oceaniacruises.com/cruise-finder#', 'https://preprod-aws.oceaniacruises.com/transatlantic-cruises/rio-de-janeiro-to-santa-cruz-de-tenerife-MNA250405/?sr=%2Fcruise-finder%23sort%3Dfeatured%3Adesc%26page%3D1%26pageSize%3D50', 'https://preprod-aws.oceaniacruises.com/cruise-finder#', 'https://preprod-aws.oceaniacruises.com/caribbean-cruises/miami-to-miami-VIS250408/?sr=%2Fcruise-finder%23sort%3Dfeatured%3Adesc%26page%3D1%26pageSize%3D50', 'https://preprod-aws.oceaniacruises.com/cruise-finder#', 'https://preprod-aws.oceaniacruises.com/asia-cruises/singapore-to-taipei-REG250409/?sr=%2Fcruise-finder%23sort%3Dfeatured%3Adesc%26page%3D1%26pageSize%3D50', 'https://preprod-aws.oceaniacruises.com/cruise-finder#', 'https://preprod-aws.oceaniacruises.com/caribbean-cruises/miami-to-miami-SIR250412/?sr=%2Fcruise-finder%23sort%3Dfeatured%3Adesc%26page%3D1%26pageSize%3D50', 'https://preprod-aws.oceaniacruises.com/cruise-finder#', 'https://preprod-aws.oceaniacruises.com/caribbean-cruises/miami-to-miami-VIS250419/?sr=%2Fcruise-finder%23sort%3Dfeatured%3Adesc%26page%3D1%26pageSize%3D50', 'https://preprod-aws.oceaniacruises.com/cruise-finder#', 'https://preprod-aws.oceaniacruises.com/transatlantic-cruises/miami-to-barcelona-SIR250422/?sr=%2Fcruise-finder%23sort%3Dfeatured%3Adesc%26page%3D1%26pageSize%3D50', 'https://preprod-aws.oceaniacruises.com/cruise-finder#', 'https://preprod-aws.oceaniacruises.com/alaska-cruises/anchorage-to-vancouver-RVA250521/?sr=%2Fcruise-finder%23sort%3Dfeatured%3Adesc%26page%3D1%26pageSize%3D50', 'https://preprod-aws.oceaniacruises.com/cruise-finder#', 'https://preprod-aws.oceaniacruises.com/alaska-cruises/vancouver-to-anchorage-RVA250529/?sr=%2Fcruise-finder%23sort%3Dfeatured%3Adesc%26page%3D1%26pageSize%3D50', 'https://preprod-aws.oceaniacruises.com/cruise-finder#', 'https://preprod-aws.oceaniacruises.com/australia-cruises/bali-to-papeete-REG250623/?sr=%2Fcruise-finder%23sort%3Dfeatured%3Adesc%26page%3D1%26pageSize%3D50', 'https://preprod-aws.oceaniacruises.com/cruise-finder#', 'https://preprod-aws.oceaniacruises.com/greenland-iceland-cruises/reykjavik-to-montreal-MNA250711/?sr=%2Fcruise-finder%23sort%3Dfeatured%3Adesc%26page%3D1%26pageSize%3D50', 'https://preprod-aws.oceaniacruises.com/cruise-finder#', 'https://preprod-aws.oceaniacruises.com/mediterranean-cruises/istanbul-to-athens-NAU250727/?sr=%2Fcruise-finder%23sort%3Dfeatured%3Adesc%26page%3D1%26pageSize%3D50', 'https://preprod-aws.oceaniacruises.com/cruise-finder#', 'https://preprod-aws.oceaniacruises.com/greenland-iceland-cruises/new-york-to-reykjavik-INS250806/?sr=%2Fcruise-finder%23sort%3Dfeatured%3Adesc%26page%3D1%26pageSize%3D50', 'https://preprod-aws.oceaniacruises.com/cruise-finder#', 'https://preprod-aws.oceaniacruises.com/alaska-cruises/seattle-to-seattle-RVA250808/?sr=%2Fcruise-finder%23sort%3Dfeatured%3Adesc%26page%3D1%26pageSize%3D50', 'https://preprod-aws.oceaniacruises.com/cruise-finder#', 'https://preprod-aws.oceaniacruises.com/greenland-iceland-cruises/reykjavik-to-edinburgh-SIR250811/?sr=%2Fcruise-finder%23sort%3Dfeatured%3Adesc%26page%3D1%26pageSize%3D50', 'https://preprod-aws.oceaniacruises.com/cruise-finder#', 'https://preprod-aws.oceaniacruises.com/alaska-cruises/seattle-to-seattle-RVA250818/?sr=%2Fcruise-finder%23sort%3Dfeatured%3Adesc%26page%3D1%26pageSize%3D50', 'https://preprod-aws.oceaniacruises.com/cruise-finder#', 'https://preprod-aws.oceaniacruises.com/greenland-iceland-cruises/reykjavik-to-new-york-INS250825/?sr=%2Fcruise-finder%23sort%3Dfeatured%3Adesc%26page%3D1%26pageSize%3D50', 'https://preprod-aws.oceaniacruises.com/cruise-finder#', 'https://preprod-aws.oceaniacruises.com/alaska-cruises/seattle-to-seattle-RVA250828/?sr=%2Fcruise-finder%23sort%3Dfeatured%3Adesc%26page%3D1%26pageSize%3D50', 'https://preprod-aws.oceaniacruises.com/cruise-finder#', 'https://preprod-aws.oceaniacruises.com/alaska-cruises/seattle-to-seattle-RVA250909/?sr=%2Fcruise-finder%23sort%3Dfeatured%3Adesc%26page%3D1%26pageSize%3D50', 'https://preprod-aws.oceaniacruises.com/cruise-finder#', 'https://preprod-aws.oceaniacruises.com/south-pacific-tahiti-cruises/papeete-to-honolulu-REG250915/?sr=%2Fcruise-finder%23sort%3Dfeatured%3Adesc%26page%3D1%26pageSize%3D50', 'https://preprod-aws.oceaniacruises.com/cruise-finder#', 'https://preprod-aws.oceaniacruises.com/british-isles-cruises/antwerp-to-lisbon-SIR250922/?sr=%2Fcruise-finder%23sort%3Dfeatured%3Adesc%26page%3D1%26pageSize%3D50', 'https://preprod-aws.oceaniacruises.com/cruise-finder#', 'https://preprod-aws.oceaniacruises.com/south-pacific-tahiti-cruises/honolulu-to-papeete-REG250930/?sr=%2Fcruise-finder%23sort%3Dfeatured%3Adesc%26page%3D1%26pageSize%3D50', 'https://preprod-aws.oceaniacruises.com/cruise-finder#', 'https://preprod-aws.oceaniacruises.com/mediterranean-cruises/rome-to-istanbul-MNA251004/?sr=%2Fcruise-finder%23sort%3Dfeatured%3Adesc%26page%3D1%26pageSize%3D50', 'https://preprod-aws.oceaniacruises.com/cruise-finder#', 'https://preprod-aws.oceaniacruises.com/transatlantic-cruises/papeete-to-los-angeles-REG251015/?sr=%2Fcruise-finder%23sort%3Dfeatured%3Adesc%26page%3D1%26pageSize%3D50', 'https://preprod-aws.oceaniacruises.com/cruise-finder#', 'https://preprod-aws.oceaniacruises.com/asia-cruises/tokyo-to-singapore-RVA250214/?sr=%2Fcruise-finder%23sort%3Dfeatured%3Adesc%26page%3D1%26pageSize%3D50', 'https://preprod-aws.oceaniacruises.com/cruise-finder#', 'https://preprod-aws.oceaniacruises.com/caribbean-cruises/miami-to-miami-VIS250302/?sr=%2Fcruise-finder%23sort%3Dfeatured%3Adesc%26page%3D1%26pageSize%3D50', 'https://preprod-aws.oceaniacruises.com/cruise-finder#', 'https://preprod-aws.oceaniacruises.com/south-america-cruises/santiago-de-chile-to-buenos-aires-MNA250306/?sr=%2Fcruise-finder%23sort%3Dfeatured%3Adesc%26page%3D1%26pageSize%3D50', 'https://preprod-aws.oceaniacruises.com/cruise-finder#', 'https://preprod-aws.oceaniacruises.com/caribbean-cruises/miami-to-miami-VIS250320/?sr=%2Fcruise-finder%23sort%3Dfeatured%3Adesc%26page%3D1%26pageSize%3D50', 'https://preprod-aws.oceaniacruises.com/cruise-finder#', 'https://preprod-aws.oceaniacruises.com/asia-cruises/singapore-to-taipei-INS250323/?sr=%2Fcruise-finder%23sort%3Dfeatured%3Adesc%26page%3D1%26pageSize%3D50', 'https://preprod-aws.oceaniacruises.com/cruise-finder#', 'https://preprod-aws.oceaniacruises.com/asia-cruises/auckland-to-singapore-NAU250326/?sr=%2Fcruise-finder%23sort%3Dfeatured%3Adesc%26page%3D1%26pageSize%3D50', 'https://preprod-aws.oceaniacruises.com/cruise-finder#', 'https://preprod-aws.oceaniacruises.com/caribbean-cruises/miami-to-miami-VIS250327/?sr=%2Fcruise-finder%23sort%3Dfeatured%3Adesc%26page%3D1%26pageSize%3D50', 'https://preprod-aws.oceaniacruises.com/cruise-finder#', 'https://preprod-aws.oceaniacruises.com/asia-cruises/taipei-to-perth-INS250414/?sr=%2Fcruise-finder%23sort%3Dfeatured%3Adesc%26page%3D1%26pageSize%3D50', 'https://preprod-aws.oceaniacruises.com/cruise-finder#', 'https://preprod-aws.oceaniacruises.com/australia-cruises/perth-to-auckland-INS250504/?sr=%2Fcruise-finder%23sort%3Dfeatured%3Adesc%26page%3D1%26pageSize%3D50', 'https://preprod-aws.oceaniacruises.com/cruise-finder#', 'https://preprod-aws.oceaniacruises.com/mediterranean-cruises/barcelona-to-rome-MNA250508/?sr=%2Fcruise-finder%23sort%3Dfeatured%3Adesc%26page%3D1%26pageSize%3D50', 'https://preprod-aws.oceaniacruises.com/cruise-finder#', 'https://preprod-aws.oceaniacruises.com/alaska-cruises/vancouver-to-anchorage-RVA250513/?sr=%2Fcruise-finder%23sort%3Dfeatured%3Adesc%26page%3D1%26pageSize%3D50', 'https://preprod-aws.oceaniacruises.com/cruise-finder#', 'https://preprod-aws.oceaniacruises.com/mediterranean-cruises/barcelona-to-athens-MNA250526/?sr=%2Fcruise-finder%23sort%3Dfeatured%3Adesc%26page%3D1%26pageSize%3D50', 'https://preprod-aws.oceaniacruises.com/cruise-finder#', 'https://preprod-aws.oceaniacruises.com/asia-cruises/hong-kong-to-bali-REG250603/?sr=%2Fcruise-finder%23sort%3Dfeatured%3Adesc%26page%3D1%26pageSize%3D50', 'https://preprod-aws.oceaniacruises.com/cruise-finder#', 'https://preprod-aws.oceaniacruises.com/alaska-cruises/vancouver-to-seattle-RVA250617/?sr=%2Fcruise-finder%23sort%3Dfeatured%3Adesc%26page%3D1%26pageSize%3D50', 'https://preprod-aws.oceaniacruises.com/cruise-finder#', 'https://preprod-aws.oceaniacruises.com/alaska-cruises/seattle-to-seattle-RVA250626/?sr=%2Fcruise-finder%23sort%3Dfeatured%3Adesc%26page%3D1%26pageSize%3D50', 'https://preprod-aws.oceaniacruises.com/cruise-finder#', 'https://preprod-aws.oceaniacruises.com/greenland-iceland-cruises/london-to-reykjavik-MNA250630/?sr=%2Fcruise-finder%23sort%3Dfeatured%3Adesc%26page%3D1%26pageSize%3D50', 'https://preprod-aws.oceaniacruises.com/cruise-finder#', 'https://preprod-aws.oceaniacruises.com/alaska-cruises/seattle-to-seattle-RVA250717/?sr=%2Fcruise-finder%23sort%3Dfeatured%3Adesc%26page%3D1%26pageSize%3D50', 'https://preprod-aws.oceaniacruises.com/cruise-finder#', 'https://preprod-aws.oceaniacruises.com/greenland-iceland-cruises/montreal-to-reykjavik-MNA250727/?sr=%2Fcruise-finder%23sort%3Dfeatured%3Adesc%26page%3D1%26pageSize%3D50', 'https://preprod-aws.oceaniacruises.com/cruise-finder#', 'https://preprod-aws.oceaniacruises.com/south-pacific-tahiti-cruises/honolulu-to-papeete-REG250801/?sr=%2Fcruise-finder%23sort%3Dfeatured%3Adesc%26page%3D1%26pageSize%3D50', 'https://preprod-aws.oceaniacruises.com/cruise-finder#', 'https://preprod-aws.oceaniacruises.com/mediterranean-cruises/athens-to-rome-NAU250808/?sr=%2Fcruise-finder%23sort%3Dfeatured%3Adesc%26page%3D1%26pageSize%3D50', 'https://preprod-aws.oceaniacruises.com/cruise-finder#']\n"
     ]
    }
   ],
   "source": [
    "try:\n",
    "    url = \"https://preprod-aws.oceaniacruises.com/cruise-finder#sort=featured:desc&page=1&pageSize=10\"\n",
    "    driver.get(url)\n",
    "    time.sleep(12)\n",
    "    # create global list to insert all the list into this one -- remeber to flatten at the end\n",
    "    global_list_urls = []\n",
    "    \n",
    "\n",
    "    element = driver.find_element(By.CLASS_NAME, 'c265_aside_item')\n",
    "    is_page_loaded = \"0\" not in element.get_attribute(\"outerText\")\n",
    "    if is_page_loaded:\n",
    "        print('Page loaded successfully')\n",
    "        # drop down toggle class\n",
    "        drop_down_xpath = \"//button[@class='btn dropdown-toggle btn-outline-black btn-md']\"\n",
    "        drop_down_element = driver.find_element(By.XPATH, drop_down_xpath)\n",
    "        print(element.get_attribute(\"outerText\"))  # Print the outerText of the element\n",
    "        driver.execute_script(\"arguments[0].scrollIntoView(true);\", drop_down_element)\n",
    "        \n",
    "        # Click the dropdown\n",
    "        driver.execute_script(\"arguments[0].click();\", drop_down_element)\n",
    "        print('Dropdown clicked successfully')\n",
    "        \n",
    "        # Click the individual item selection\n",
    "        # drop down individual values\n",
    "        list_item = driver.find_element(By.XPATH, \"//a[@id='bs-select-17-4']\")\n",
    "        driver.execute_script(\"arguments[0].click();\", list_item) \n",
    "        print('Dropdown selection clicked successfully')\n",
    "        \n",
    "        # Wait for 20 seconds\n",
    "        time.sleep(10)\n",
    "        \n",
    "        # lets check if the count updated\n",
    "        if (drop_down_element.get_attribute(\"title\") == \"50\"):\n",
    "            print('Dropdown selection updated successfully')\n",
    "            print(drop_down_element.get_attribute(\"title\"))\n",
    "            print(driver.current_url)\n",
    "            href_list = find_urls(driver)\n",
    "            print(href_list) # end of the first page\n",
    "\n",
    "            \n",
    "            # page navigation section\n",
    "            page_navigation_bar = driver.find_element(By.XPATH, \"//*[@class='listing -horizontal']\")\n",
    "            each_page = page_navigation_bar.find_elements(By.TAG_NAME, 'li')\n",
    "            page_amount = len(each_page)\n",
    "            current_page = page_navigation_bar.find_element(By.XPATH, \"//*[@class='active']\")\n",
    "            print(page_amount)\n",
    "            print(current_page)\n",
    "            \n",
    "            \n",
    "        else:\n",
    "            print(drop_down_element.get_attribute(\"title\"))\n",
    "            print('Dropdown selection did not update successfully')\n",
    "            print(driver.current_url)\n",
    "    else:\n",
    "        print('Page did not load successfully')\n",
    "\n",
    "except WebDriverException as e:\n",
    "    print('Error loading page:', e)\n",
    "\n",
    "except ElementNotInteractableException as e:\n",
    "    print('Element not interactable:', e)\n",
    "\n",
    "finally:\n",
    "    # Close the browser\n",
    "    driver.quit()"
   ]
  },
  {
   "cell_type": "markdown",
   "metadata": {},
   "source": []
  },
  {
   "cell_type": "code",
   "execution_count": null,
   "metadata": {},
   "outputs": [],
   "source": [
    "'''\n",
    "back up code\n",
    "try:\n",
    "    url = \"https://preprod-aws.oceaniacruises.com/cruise-finder#sort=featured:desc&page=1&pageSize=10\"\n",
    "    driver.get(url)\n",
    "    time.sleep(12)\n",
    "    \n",
    "    driver varibles \n",
    " \n",
    "    # view crusies parent class\n",
    "    element = driver.find_element(By.CLASS_NAME, 'c265_aside_item')\n",
    "    # drop down toggle class\n",
    "    drop_down_xpath = \"//button[@class='btn dropdown-toggle btn-outline-black btn-md']\"\n",
    "    drop_down_element = driver.find_element(By.XPATH, drop_down_xpath)\n",
    "    # drop down individual values\n",
    "    list_item = driver.find_element(By.XPATH, \"//a[@id='bs-select-17-4']\")\n",
    "    # page navigation section\n",
    "    page_navigation_bar = driver.find_element(By.XPATH, \"//*[@class='listing -horizontal']\")\n",
    "    each_page = page_navigation_bar.find_elements(By.TAG_NAME, 'li')\n",
    "    # initialize varibles to have global scope as its needed for the while loop to work\n",
    "    page_amount = None\n",
    "    current_page = None\n",
    "    # create global list to insert all the list into this one -- remeber to flatten at the end\n",
    "    global_list_urls = []\n",
    "\n",
    "    while True:\n",
    "        if int(current_page.text) > page_amount:\n",
    "            print(\"completed all pages\")\n",
    "            break\n",
    "        else:\n",
    "            is_page_loaded = \"0\" not in element.get_attribute(\"outerText\")\n",
    "            if is_page_loaded:\n",
    "                print('Page loaded successfully')\n",
    "                print(element.get_attribute(\"outerText\"))  # Print the outerText of the element\n",
    "                driver.execute_script(\"arguments[0].scrollIntoView(true);\", drop_down_element)\n",
    "                \n",
    "                # Click the dropdown\n",
    "                driver.execute_script(\"arguments[0].click();\", drop_down_element)\n",
    "                print('Dropdown clicked successfully')\n",
    "                \n",
    "                # Click the individual item selection\n",
    "                driver.execute_script(\"arguments[0].click();\", list_item) \n",
    "                print('Dropdown selection clicked successfully')\n",
    "                \n",
    "                # Wait for 20 seconds\n",
    "                time.sleep(20)\n",
    "                \n",
    "                # lets check if the count updated\n",
    "                if (drop_down_element.get_attribute(\"title\") == \"50\"):\n",
    "                    print('Dropdown selection updated successfully')\n",
    "                    print(drop_down_element.get_attribute(\"title\"))\n",
    "                    print(driver.current_url)\n",
    "                    url_list = find_urls(driver)\n",
    "                    print(url_list) # end\n",
    "                    \n",
    "                    # selecting the page navigation\n",
    "                    page_amount = len(each_page)\n",
    "                    current_page = page_navigation_bar.find_element(By.XPATH, \"//*[@class='active']\")\n",
    "                    print(current_page)\n",
    "                    \n",
    "                    \n",
    "\n",
    "                else:\n",
    "                    print(drop_down_element.get_attribute(\"title\"))\n",
    "                    print('Dropdown selection did not update successfully')\n",
    "                    print(driver.current_url)\n",
    "            else:\n",
    "                print('Page did not load successfully')\n",
    "\n",
    "except WebDriverException as e:\n",
    "    print('Error loading page:', e)\n",
    "\n",
    "except ElementNotInteractableException as e:\n",
    "    print('Element not interactable:', e)\n",
    "\n",
    "finally:\n",
    "    # Close the browser\n",
    "    driver.quit()\n",
    "\n",
    "'''"
   ]
  }
 ],
 "metadata": {
  "kernelspec": {
   "display_name": "oci",
   "language": "python",
   "name": "python3"
  },
  "language_info": {
   "codemirror_mode": {
    "name": "ipython",
    "version": 3
   },
   "file_extension": ".py",
   "mimetype": "text/x-python",
   "name": "python",
   "nbconvert_exporter": "python",
   "pygments_lexer": "ipython3",
   "version": "3.13.0"
  }
 },
 "nbformat": 4,
 "nbformat_minor": 2
}
