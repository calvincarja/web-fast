{
 "cells": [
  {
   "cell_type": "code",
   "execution_count": 32,
   "metadata": {},
   "outputs": [],
   "source": [
    "import requests\n",
    "import random\n",
    "import time\n",
    "from bs4 import BeautifulSoup\n",
    "from urllib.parse import urlparse, parse_qs, urlencode\n",
    "import os\n",
    "import pandas as pd\n"
   ]
  },
  {
   "cell_type": "code",
   "execution_count": 33,
   "metadata": {},
   "outputs": [],
   "source": [
    "from selenium import webdriver\n",
    "from selenium.webdriver.common.action_chains import ActionChains\n",
    "from selenium.webdriver.chrome.options import Options\n",
    "from selenium.common.exceptions import WebDriverException\n",
    "from selenium.webdriver.common.by import By\n",
    "from selenium.common.exceptions import WebDriverException, ElementNotInteractableException, TimeoutException,JavascriptException\n",
    "from selenium.webdriver.support.ui import WebDriverWait\n",
    "from selenium.webdriver.support import expected_conditions as EC"
   ]
  },
  {
   "cell_type": "markdown",
   "metadata": {},
   "source": [
    "-- chome_options that need to be run ** using"
   ]
  },
  {
   "cell_type": "code",
   "execution_count": 34,
   "metadata": {},
   "outputs": [],
   "source": [
    "def get_chrome_options():\n",
    "    chrome_options = Options()\n",
    "    chrome_options.add_argument(\"User-Agent=Mozilla/5.0 (Macintosh; Intel Mac OS X 10_15_7) AppleWebKit/605.1.15 (KHTML, like Gecko) Version/14.0.3 Safari/605.1.15\")\n",
    "    chrome_options.add_argument(\"--headless=new\")  # New headless implementation\n",
    "    chrome_options.add_argument(\"--disable-gpu\")  # Disable GPU (useful for older environments)\n",
    "    chrome_options.add_argument(\"--window-size=1920,1080\")  # Set window size for headless\n",
    "    chrome_options.add_argument(\"--no-sandbox\")  # Bypass sandbox (useful in CI)\n",
    "    chrome_options.add_argument(\"--disable-dev-shm-usage\")  # Prevent shared memory issues\n",
    "    return chrome_options"
   ]
  },
  {
   "cell_type": "code",
   "execution_count": 35,
   "metadata": {},
   "outputs": [],
   "source": [
    "# driver = webdriver.Chrome(options=chrome_options)"
   ]
  },
  {
   "cell_type": "markdown",
   "metadata": {},
   "source": [
    "-- function to get the page_navigation info ** using"
   ]
  },
  {
   "cell_type": "code",
   "execution_count": 36,
   "metadata": {},
   "outputs": [],
   "source": [
    "def get_page_navigation_info(driver):\n",
    "    try:\n",
    "        # Find the page navigation bar\n",
    "        page_navigation_bar = driver.find_element(By.XPATH, \"//*[@class='listing -horizontal']\")\n",
    "        each_page = page_navigation_bar.find_elements(By.TAG_NAME, 'li')\n",
    "        # page_amount = len(each_page)\n",
    "        page_amount = 13 # hardcoding the page amount to investigate the page navigation bar\n",
    "        print(f\"there are {page_amount} total pages of cruises\")\n",
    "        return page_amount\n",
    "    \n",
    "    except Exception as e:\n",
    "        print(f\"An error occurred: {e}\")\n",
    "        return None"
   ]
  },
  {
   "cell_type": "code",
   "execution_count": 37,
   "metadata": {},
   "outputs": [
    {
     "data": {
      "text/plain": [
       "'\\ndef update_url_fragment(driver, current_page):\\n    base_url = driver.current_url.split(\\'#\\')[0]\\n    fragment = f\"sort=featured:desc&page={str(current_page + 1)}&pageSize=10\"\\n    new_url = f\"{base_url}#{fragment}\"\\n    return new_url\\n'"
      ]
     },
     "execution_count": 37,
     "metadata": {},
     "output_type": "execute_result"
    }
   ],
   "source": [
    "\n",
    "'''\n",
    "def update_url_fragment(driver, current_page):\n",
    "    base_url = driver.current_url.split('#')[0]\n",
    "    fragment = f\"sort=featured:desc&page={str(current_page + 1)}&pageSize=10\"\n",
    "    new_url = f\"{base_url}#{fragment}\"\n",
    "    return new_url\n",
    "'''"
   ]
  },
  {
   "cell_type": "markdown",
   "metadata": {},
   "source": [
    "-- extracting the urls from the page function , load urls to list ** using"
   ]
  },
  {
   "cell_type": "code",
   "execution_count": 38,
   "metadata": {},
   "outputs": [],
   "source": [
    "def find_urls(driver):\n",
    "    try:\n",
    "        # Use JavaScript to find <a> tags within <li> elements and extract hrefs\n",
    "        script = f\"\"\"\n",
    "        const listItems = document.querySelectorAll('.c29_body_options_item');\n",
    "        let hrefList = [];\n",
    "        listItems.forEach(li => {{\n",
    "            const anchor = li.querySelector('a'); // Search for <a> within each <li>\n",
    "            if (anchor && anchor.href) {{\n",
    "                hrefList.push(anchor.href);      // Push the href value to the list\n",
    "            }}\n",
    "        }});\n",
    "        return hrefList;\n",
    "        \"\"\"\n",
    "        \n",
    "        # Execute the JavaScript and fetch the results\n",
    "        href_list = driver.execute_script(script)\n",
    "        \n",
    "    except Exception as e:\n",
    "        print(f\"An error occurred: {e}\")\n",
    "    \n",
    "    return href_list"
   ]
  },
  {
   "cell_type": "markdown",
   "metadata": {},
   "source": [
    "-- get_global_list function that loads the page and extracts urls ** using"
   ]
  },
  {
   "cell_type": "code",
   "execution_count": 39,
   "metadata": {},
   "outputs": [],
   "source": [
    "def get_global_list():\n",
    "    try:\n",
    "        chrome_options = get_chrome_options()\n",
    "        driver = webdriver.Chrome(options=chrome_options)\n",
    "        url = \"https://prod-aws.oceaniacruises.com/cruise-finder#sort=featured:desc&page=1&pageSize=10\"\n",
    "        driver.get(url)\n",
    "        time.sleep(10)\n",
    "        page_amount = get_page_navigation_info(driver)\n",
    "        # create global list to insert all the list into this one -- remeber to flatten at the end\n",
    "        current_page = 1 # start at page 1\n",
    "        global_list_urls = []\n",
    "        \n",
    "        while True:\n",
    "            if current_page <= 2:\n",
    "                print(f\"You're currently on page: {current_page}, Total pages: {page_amount}\")\n",
    "                print(f\"The current url is: {driver.current_url}\")\n",
    "                element = driver.find_element(By.CLASS_NAME, 'c265_aside_item')\n",
    "                outer_text = element.get_attribute(\"outerText\")\n",
    "                is_page_loaded = outer_text != \"0\"\n",
    "                \n",
    "                if is_page_loaded:\n",
    "                    print('Page loaded successfully')\n",
    "                    print(f\"verifying the cruises loaded: {element.get_attribute(\"outerText\")}\")\n",
    "                    href_list = find_urls(driver)\n",
    "                    global_list_urls.append(href_list)\n",
    "                    print(\"the cruises hrefs on this page have been added to my list\")\n",
    "                    \n",
    "                    # go to the next page\n",
    "                    current_page += 1  # Increment the page number first\n",
    "                    url = f\"https://prod-aws.oceaniacruises.com/cruise-finder#sort=featured:desc&page={str(current_page)}&pageSize=10\"\n",
    "                    print(f\"Navigating to new URL: {url}\")\n",
    "                    driver.get(url)\n",
    "                    driver.refresh()\n",
    "                    time.sleep(10)\n",
    "                    \n",
    "\n",
    "                else:\n",
    "                    print(element.get_attribute(\"outerText\"))\n",
    "                    print('Page did not load successfully')\n",
    "                    time.sleep(15)\n",
    "            else:\n",
    "                print(\"all pages have been scraped\")\n",
    "                break\n",
    "        return global_list_urls\n",
    "\n",
    "    except WebDriverException as e:\n",
    "        print('Error loading page:', e)\n",
    "        return None\n",
    "\n",
    "    except ElementNotInteractableException as e:\n",
    "        print('Element not interactable:', e)\n",
    "        return None\n",
    "\n",
    "    finally:\n",
    "        # Close the browser\n",
    "        driver.quit()"
   ]
  },
  {
   "cell_type": "markdown",
   "metadata": {},
   "source": [
    "-- cleaning the values of the global list ** using"
   ]
  },
  {
   "cell_type": "code",
   "execution_count": 40,
   "metadata": {},
   "outputs": [],
   "source": [
    "\n",
    "def cleaning_list(global_list_urls):\n",
    "    # use nested loop as global list is a collection of lists\n",
    "    # first round of cleaning\n",
    "    for sublist in global_list_urls:\n",
    "        i = 0\n",
    "        while i < len(sublist):\n",
    "            if sublist[i] == 'https://prod-aws.oceaniacruises.com/cruise-finder#':\n",
    "                sublist.pop(i)\n",
    "            else:\n",
    "                i += 1\n",
    "    \n",
    "    # second round of cleaning\n",
    "    for sublist in global_list_urls:\n",
    "        i = 0\n",
    "        while i < len(sublist):\n",
    "            if \"?sr=%2Fcruise-finder%23sort%3Dfeatured%3Adesc%26page%3D1%26pageSize%3D10\" in sublist[i]:\n",
    "                sublist[i] = sublist[i].replace(\"?sr=%2Fcruise-finder%23sort%3Dfeatured%3Adesc%26page%3D1%26pageSize%3D10\", \"\")\n",
    "            else:\n",
    "                i += 1\n",
    "    return global_list_urls"
   ]
  },
  {
   "cell_type": "markdown",
   "metadata": {},
   "source": [
    "-- lets flatten out the global list ** using"
   ]
  },
  {
   "cell_type": "code",
   "execution_count": 41,
   "metadata": {},
   "outputs": [],
   "source": [
    "def flatten_list(global_list_urls):\n",
    "    list_of_list = [item for sublist in global_list_urls for item in sublist]\n",
    "    return list_of_list"
   ]
  },
  {
   "cell_type": "markdown",
   "metadata": {},
   "source": [
    "-- lets create the function to process each url - will be called at a later time ** using"
   ]
  },
  {
   "cell_type": "code",
   "execution_count": 42,
   "metadata": {},
   "outputs": [],
   "source": [
    "def process_each_url(url):\n",
    "    try:\n",
    "        chrome_options = get_chrome_options()\n",
    "        driver = webdriver.Chrome(options=chrome_options)\n",
    "        driver.get(url)\n",
    "        time.sleep(10) \n",
    "        \n",
    "        body_inner_html = driver.execute_script(\"return document.body.innerHTML;\")\n",
    "        driver.quit()\n",
    "        soup = BeautifulSoup(body_inner_html, 'html5lib')\n",
    "        map_soup = soup.find(\"div\", class_ = \"image\").find(\"a\")\n",
    "        map_soup_ahref = map_soup['href']\n",
    "        print(f\"URL: {url}, Map URL: {map_soup_ahref}\")\n",
    "        return (url, map_soup_ahref)\n",
    "    except Exception as e:\n",
    "        print(f\"An error occurred: {url},{e}\")\n",
    "        return None\n",
    "        "
   ]
  },
  {
   "cell_type": "markdown",
   "metadata": {},
   "source": [
    "-- lets pass the flatten_list to the scan url function ** using"
   ]
  },
  {
   "cell_type": "code",
   "execution_count": 43,
   "metadata": {},
   "outputs": [],
   "source": [
    "def scan_list(list_of_list):\n",
    "    map_href_list = []\n",
    "    all_map_href_list = []\n",
    "    for index, url in enumerate(list_of_list):\n",
    "        map_href_list = process_each_url(url)\n",
    "        percentage_left = (index + 1) / len(list_of_list) * 100\n",
    "        print(f\"Processed {percentage_left:.2f}% of the URL list\")\n",
    "        all_map_href_list.append(map_href_list)\n",
    "    print(len(all_map_href_list))\n",
    "    return all_map_href_list\n"
   ]
  },
  {
   "cell_type": "markdown",
   "metadata": {},
   "source": [
    "-- downloading the global list to a text file onto my computer"
   ]
  },
  {
   "cell_type": "code",
   "execution_count": 44,
   "metadata": {},
   "outputs": [],
   "source": [
    "def download_list(all_map_href_list):\n",
    "    # define the downloads folder\n",
    "    downloads_folder = '/Users/calvinpineda/Downloads'\n",
    "    output_file_path = os.path.join(downloads_folder, \"output-href-test-test-test.txt\")\n",
    "\n",
    "    # open the file in write mode\n",
    "    with open(output_file_path, \"w\") as file:\n",
    "        for url in all_map_href_list:\n",
    "            file.write(f\"{url}\\n\")"
   ]
  },
  {
   "cell_type": "code",
   "execution_count": 45,
   "metadata": {},
   "outputs": [],
   "source": [
    "def master_function():\n",
    "    global_list_urls = get_global_list()\n",
    "    cleaning_list(global_list_urls) # modify the global list in place\n",
    "    list_of_list = flatten_list(global_list_urls) # flatten the list\n",
    "    all_map_href_list = scan_list(list_of_list) # scan the list\n",
    "    download_list(all_map_href_list) # download the list\n",
    "    print(all_map_href_list)\n",
    "    print(\"done\")\n",
    "    "
   ]
  },
  {
   "cell_type": "code",
   "execution_count": 46,
   "metadata": {},
   "outputs": [
    {
     "name": "stdout",
     "output_type": "stream",
     "text": [
      "there are 13 total pages of cruises\n",
      "You're currently on page: 1, Total pages: 13\n",
      "The current url is: https://prod-aws.oceaniacruises.com/cruise-finder#sort=featured:desc&page=1&pageSize=10\n",
      "Page loaded successfully\n",
      "verifying the cruises loaded: VIEW 605 CRUISES\n",
      "the cruises hrefs on this page have been added to my list\n",
      "Navigating to new URL: https://prod-aws.oceaniacruises.com/cruise-finder#sort=featured:desc&page=2&pageSize=10\n",
      "You're currently on page: 2, Total pages: 13\n",
      "The current url is: https://prod-aws.oceaniacruises.com/cruise-finder#sort=featured:desc&page=2&pageSize=10\n",
      "Page loaded successfully\n",
      "verifying the cruises loaded: VIEW 605 CRUISES\n",
      "the cruises hrefs on this page have been added to my list\n",
      "Navigating to new URL: https://prod-aws.oceaniacruises.com/cruise-finder#sort=featured:desc&page=3&pageSize=10\n"
     ]
    },
    {
     "ename": "KeyboardInterrupt",
     "evalue": "",
     "output_type": "error",
     "traceback": [
      "\u001b[0;31m---------------------------------------------------------------------------\u001b[0m",
      "\u001b[0;31mKeyboardInterrupt\u001b[0m                         Traceback (most recent call last)",
      "Cell \u001b[0;32mIn[46], line 1\u001b[0m\n\u001b[0;32m----> 1\u001b[0m \u001b[43mmaster_function\u001b[49m\u001b[43m(\u001b[49m\u001b[43m)\u001b[49m\n",
      "Cell \u001b[0;32mIn[45], line 2\u001b[0m, in \u001b[0;36mmaster_function\u001b[0;34m()\u001b[0m\n\u001b[1;32m      1\u001b[0m \u001b[38;5;28;01mdef\u001b[39;00m \u001b[38;5;21mmaster_function\u001b[39m():\n\u001b[0;32m----> 2\u001b[0m     global_list_urls \u001b[38;5;241m=\u001b[39m \u001b[43mget_global_list\u001b[49m\u001b[43m(\u001b[49m\u001b[43m)\u001b[49m\n\u001b[1;32m      3\u001b[0m     cleaning_list(global_list_urls) \u001b[38;5;66;03m# modify the global list in place\u001b[39;00m\n\u001b[1;32m      4\u001b[0m     list_of_list \u001b[38;5;241m=\u001b[39m flatten_list(global_list_urls) \u001b[38;5;66;03m# flatten the list\u001b[39;00m\n",
      "Cell \u001b[0;32mIn[39], line 34\u001b[0m, in \u001b[0;36mget_global_list\u001b[0;34m()\u001b[0m\n\u001b[1;32m     32\u001b[0m     driver\u001b[38;5;241m.\u001b[39mget(url)\n\u001b[1;32m     33\u001b[0m     driver\u001b[38;5;241m.\u001b[39mrefresh()\n\u001b[0;32m---> 34\u001b[0m     \u001b[43mtime\u001b[49m\u001b[38;5;241;43m.\u001b[39;49m\u001b[43msleep\u001b[49m\u001b[43m(\u001b[49m\u001b[38;5;241;43m10\u001b[39;49m\u001b[43m)\u001b[49m\n\u001b[1;32m     37\u001b[0m \u001b[38;5;28;01melse\u001b[39;00m:\n\u001b[1;32m     38\u001b[0m     \u001b[38;5;28mprint\u001b[39m(element\u001b[38;5;241m.\u001b[39mget_attribute(\u001b[38;5;124m\"\u001b[39m\u001b[38;5;124mouterText\u001b[39m\u001b[38;5;124m\"\u001b[39m))\n",
      "\u001b[0;31mKeyboardInterrupt\u001b[0m: "
     ]
    }
   ],
   "source": [
    "master_function()"
   ]
  },
  {
   "cell_type": "markdown",
   "metadata": {},
   "source": []
  },
  {
   "cell_type": "code",
   "execution_count": null,
   "metadata": {},
   "outputs": [],
   "source": [
    "'''\n",
    "back up code\n",
    "try:\n",
    "    url = \"https://preprod-aws.oceaniacruises.com/cruise-finder#sort=featured:desc&page=1&pageSize=10\"\n",
    "    driver.get(url)\n",
    "    time.sleep(12)\n",
    "    \n",
    "    driver varibles \n",
    " \n",
    "    # view crusies parent class\n",
    "    element = driver.find_element(By.CLASS_NAME, 'c265_aside_item')\n",
    "    # drop down toggle class\n",
    "    drop_down_xpath = \"//button[@class='btn dropdown-toggle btn-outline-black btn-md']\"\n",
    "    drop_down_element = driver.find_element(By.XPATH, drop_down_xpath)\n",
    "    # drop down individual values\n",
    "    list_item = driver.find_element(By.XPATH, \"//a[@id='bs-select-17-4']\")\n",
    "    # page navigation section\n",
    "    page_navigation_bar = driver.find_element(By.XPATH, \"//*[@class='listing -horizontal']\")\n",
    "    each_page = page_navigation_bar.find_elements(By.TAG_NAME, 'li')\n",
    "    # initialize varibles to have global scope as its needed for the while loop to work\n",
    "    page_amount = None\n",
    "    current_page = None\n",
    "    # create global list to insert all the list into this one -- remeber to flatten at the end\n",
    "    global_list_urls = []\n",
    "\n",
    "    while True:\n",
    "        if int(current_page.text) > page_amount:\n",
    "            print(\"completed all pages\")\n",
    "            break\n",
    "        else:\n",
    "            is_page_loaded = \"0\" not in element.get_attribute(\"outerText\")\n",
    "            if is_page_loaded:\n",
    "                print('Page loaded successfully')\n",
    "                print(element.get_attribute(\"outerText\"))  # Print the outerText of the element\n",
    "                driver.execute_script(\"arguments[0].scrollIntoView(true);\", drop_down_element)\n",
    "                \n",
    "                # Click the dropdown\n",
    "                driver.execute_script(\"arguments[0].click();\", drop_down_element)\n",
    "                print('Dropdown clicked successfully')\n",
    "                \n",
    "                # Click the individual item selection\n",
    "                driver.execute_script(\"arguments[0].click();\", list_item) \n",
    "                print('Dropdown selection clicked successfully')\n",
    "                \n",
    "                # Wait for 20 seconds\n",
    "                time.sleep(20)\n",
    "                \n",
    "                # lets check if the count updated\n",
    "                if (drop_down_element.get_attribute(\"title\") == \"50\"):\n",
    "                    print('Dropdown selection updated successfully')\n",
    "                    print(drop_down_element.get_attribute(\"title\"))\n",
    "                    print(driver.current_url)\n",
    "                    url_list = find_urls(driver)\n",
    "                    print(url_list) # end\n",
    "                    \n",
    "                    # selecting the page navigation\n",
    "                    page_amount = len(each_page)\n",
    "                    current_page = page_navigation_bar.find_element(By.XPATH, \"//*[@class='active']\")\n",
    "                    print(current_page)\n",
    "                    \n",
    "                    \n",
    "\n",
    "                else:\n",
    "                    print(drop_down_element.get_attribute(\"title\"))\n",
    "                    print('Dropdown selection did not update successfully')\n",
    "                    print(driver.current_url)\n",
    "            else:\n",
    "                print('Page did not load successfully')\n",
    "\n",
    "except WebDriverException as e:\n",
    "    print('Error loading page:', e)\n",
    "\n",
    "except ElementNotInteractableException as e:\n",
    "    print('Element not interactable:', e)\n",
    "\n",
    "finally:\n",
    "    # Close the browser\n",
    "    driver.quit()\n",
    "\n",
    "'''"
   ]
  }
 ],
 "metadata": {
  "kernelspec": {
   "display_name": "oci",
   "language": "python",
   "name": "python3"
  },
  "language_info": {
   "codemirror_mode": {
    "name": "ipython",
    "version": 3
   },
   "file_extension": ".py",
   "mimetype": "text/x-python",
   "name": "python",
   "nbconvert_exporter": "python",
   "pygments_lexer": "ipython3",
   "version": "3.13.0"
  }
 },
 "nbformat": 4,
 "nbformat_minor": 2
}
