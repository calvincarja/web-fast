{
 "cells": [
  {
   "cell_type": "code",
   "execution_count": 1,
   "metadata": {},
   "outputs": [],
   "source": [
    "import requests"
   ]
  },
  {
   "cell_type": "code",
   "execution_count": 2,
   "metadata": {},
   "outputs": [],
   "source": [
    "import random"
   ]
  },
  {
   "cell_type": "code",
   "execution_count": 17,
   "metadata": {},
   "outputs": [],
   "source": [
    "import time"
   ]
  },
  {
   "cell_type": "code",
   "execution_count": 36,
   "metadata": {},
   "outputs": [],
   "source": [
    "from selenium import webdriver\n",
    "from selenium.webdriver.chrome.options import Options\n",
    "from selenium.common.exceptions import WebDriverException\n",
    "from selenium.webdriver.common.by import By\n",
    "from selenium.common.exceptions import JavascriptException\n",
    "from selenium.webdriver.support.ui import WebDriverWait\n",
    "from selenium.webdriver.support import expected_conditions as EC"
   ]
  },
  {
   "cell_type": "code",
   "execution_count": 2,
   "metadata": {},
   "outputs": [],
   "source": [
    "from bs4 import BeautifulSoup"
   ]
  },
  {
   "cell_type": "markdown",
   "metadata": {},
   "source": [
    "# admin site project -----"
   ]
  },
  {
   "cell_type": "code",
   "execution_count": 34,
   "metadata": {},
   "outputs": [],
   "source": [
    "url = \"https://qa1-aws.oceaniacruises.com/admin/\""
   ]
  },
  {
   "cell_type": "code",
   "execution_count": 4,
   "metadata": {},
   "outputs": [],
   "source": [
    "headers = {\n",
    "    \"User-Agent\": \"Mozilla/5.0 (Windows NT 10.0; Win64; x64) AppleWebKit/537.36 (KHTML, like Gecko) Chrome/58.0.3029.110 Safari/537.36\",\n",
    "    \"Accept-Language\": \"en-US,en;q=0.9\",\n",
    "}"
   ]
  },
  {
   "cell_type": "markdown",
   "metadata": {},
   "source": [
    "# admin site project: identify if admin contains redirect (complete) - the redirects are as follow: /admin - /admin/ - ReturnUrl="
   ]
  },
  {
   "cell_type": "code",
   "execution_count": 35,
   "metadata": {},
   "outputs": [
    {
     "name": "stdout",
     "output_type": "stream",
     "text": [
      "302 /loginredirector.aspx?ReturnUrl=%2fadmin%2f\n"
     ]
    }
   ],
   "source": [
    "with requests.Session() as session:\n",
    "    response = session.get(url, headers=headers, allow_redirects=False)\n",
    "    print(response.status_code, response.headers['Location'])\n",
    "    # redirect_url = response.headers[\"location\"]"
   ]
  },
  {
   "cell_type": "markdown",
   "metadata": {},
   "source": [
    "# admin site project: handle the redirect by comparing my url with the current one (this can later be used to switch the POST to GET and back to POST)"
   ]
  },
  {
   "cell_type": "code",
   "execution_count": null,
   "metadata": {},
   "outputs": [],
   "source": [
    "with requests.Session() as session:\n",
    "    response = session.get(url, headers=headers, allow_redirects=True)\n",
    "    if response.url =! url:\n",
    "        print('not the same url')"
   ]
  },
  {
   "cell_type": "code",
   "execution_count": 15,
   "metadata": {},
   "outputs": [],
   "source": [
    "response = requests.get(url, headers=headers)"
   ]
  },
  {
   "cell_type": "code",
   "execution_count": 16,
   "metadata": {},
   "outputs": [],
   "source": [
    "soup = BeautifulSoup(response.text, \"html.parser\")"
   ]
  },
  {
   "cell_type": "code",
   "execution_count": 17,
   "metadata": {},
   "outputs": [],
   "source": [
    "find_form = soup.find_all('form')"
   ]
  },
  {
   "cell_type": "code",
   "execution_count": 18,
   "metadata": {},
   "outputs": [],
   "source": [
    "form_list = list(find_form)"
   ]
  },
  {
   "cell_type": "code",
   "execution_count": 19,
   "metadata": {},
   "outputs": [
    {
     "name": "stdout",
     "output_type": "stream",
     "text": [
      "Form 2:\n",
      "<form autocomplete=\"off\" class=\"c2_form form-material\" data-js=\"signin-form\">\n",
      " <div class=\"form-group\">\n",
      "  <!-- Error Message -->\n",
      "  <div class=\"errorMessage hide\" data-js=\"data-msg-error\">\n",
      "   <span>\n",
      "    Sorry, we donât recognize that email and password combination. Please try again or recover your password.\n",
      "   </span>\n",
      "  </div>\n",
      " </div>\n",
      " <div class=\"form-group -icon\">\n",
      "  <label class=\"label-control\" for=\"input-575-218\">\n",
      "   Email Address\n",
      "  </label>\n",
      "  <div class=\"input-group\">\n",
      "   <div class=\"input-group-prepend\">\n",
      "    <span class=\"input-group-text ogi-icon-envelope\">\n",
      "    </span>\n",
      "   </div>\n",
      "   <input class=\"form-control\" data-msg=\"Please enter a valid email address.\" data-msg-customemail=\"Please enter a valid email address.\" data-msg-email=\"Please enter a valid email address.\" id=\"input-575-218\" name=\"username\" placeholder=\"Email Address\" type=\"text\"/>\n",
      "   <!-- Error Message -->\n",
      "   <div class=\"form-validation\" data-container=\"#tooltip-f-745-803\" data-js=\"form-validation\" data-original-title=\"Please enter a valid email address.\" data-placement=\"top\" data-template='&lt;div class=\"tooltip -error\" role=\"tooltip\"&gt;&lt;div class=\"arrow\"&gt;&lt;/div&gt;&lt;div class=\"tooltip-inner\"&gt;&lt;/div&gt;&lt;/div&gt;' data-toggle=\"tooltip\">\n",
      "   </div>\n",
      "  </div>\n",
      "  <div class=\"input-error\" data-js=\"input-error\">\n",
      "   Please enter a valid email address.\n",
      "  </div>\n",
      " </div>\n",
      " <div class=\"form-group -icon\">\n",
      "  <label class=\"label-control\" for=\"input-721-673\">\n",
      "   Password\n",
      "  </label>\n",
      "  <div class=\"input-group\">\n",
      "   <div class=\"input-group-prepend\">\n",
      "    <span class=\"input-group-text ogi-icon-secure\">\n",
      "    </span>\n",
      "   </div>\n",
      "   <input class=\"form-control\" data-msg=\"Password is incorrect. Please try again or click forgot password below.\" id=\"input-721-673\" maxlength=\"50\" name=\"password\" placeholder=\"Password\" type=\"password\"/>\n",
      "   <!-- Error Message -->\n",
      "   <div class=\"form-validation\" data-container=\"#tooltip-f-745-803\" data-js=\"form-validation\" data-original-title=\"Password is incorrect. Please try again or click forgot password below.\" data-placement=\"top\" data-template='&lt;div class=\"tooltip -error\" role=\"tooltip\"&gt;&lt;div class=\"arrow\"&gt;&lt;/div&gt;&lt;div class=\"tooltip-inner\"&gt;&lt;/div&gt;&lt;/div&gt;' data-toggle=\"tooltip\">\n",
      "   </div>\n",
      "  </div>\n",
      "  <div class=\"input-error\" data-js=\"input-error\">\n",
      "   Password is incorrect. Please try again or click forgot password below.\n",
      "  </div>\n",
      " </div>\n",
      " <div class=\"form-group\">\n",
      "  <div class=\"custom-control custom-checkbox custom-single\">\n",
      "   <input class=\"custom-control-input\" id=\"input-838-513\" name=\"rememberMe\" type=\"checkbox\"/>\n",
      "   <label class=\"custom-control-label\" for=\"input-838-513\">\n",
      "    <span class=\"custom-control-label-text\">\n",
      "     Keep me signed in\n",
      "    </span>\n",
      "   </label>\n",
      "  </div>\n",
      " </div>\n",
      " <div class=\"form-group\">\n",
      "  <!--c13-->\n",
      "  <div class=\"c13\">\n",
      "   <div class=\"c13_submit\">\n",
      "    <button aria-label=\"Login\" class=\"btn btn-primary disabled\" type=\"submit\">\n",
      "     Login\n",
      "    </button>\n",
      "   </div>\n",
      "   <div class=\"c13_aside\">\n",
      "    <a aria-label=\"Privacy Policy\" class=\"c13_link\" data-target=\"#modal-privacy-policy\" data-toggle=\"modal\" href=\"#\" title=\"Privacy Policy\">\n",
      "     Privacy Policy\n",
      "    </a>\n",
      "   </div>\n",
      "  </div>\n",
      " </div>\n",
      " <div class=\"block-group\">\n",
      "  <div class=\"row\">\n",
      "   <div class=\"col-md-12\">\n",
      "    <ul class=\"c14\">\n",
      "     <li class=\"c14_item\">\n",
      "      <a aria-label=\"Forgot Password\" data-js=\"null\" href=\"/forgot-password\" title=\"Forgot Password\">\n",
      "       Forgot Password\n",
      "      </a>\n",
      "     </li>\n",
      "     <li class=\"c14_item\">\n",
      "      <a aria-label=\"Create Account\" data-js=\"null\" href=\"/register\" title=\"Create Account\">\n",
      "       Create Account\n",
      "      </a>\n",
      "     </li>\n",
      "    </ul>\n",
      "   </div>\n",
      "  </div>\n",
      " </div>\n",
      "</form>\n",
      "\n",
      "\n",
      "\n"
     ]
    }
   ],
   "source": [
    "for i, form in enumerate(form_list):\n",
    "    #if 'country' not in form.prettify().lower():\n",
    "    if 'input-575-218' in form.prettify().lower():\n",
    "        print(f\"Form {i}:\\n{form.prettify()}\\n\\n\")"
   ]
  },
  {
   "cell_type": "markdown",
   "metadata": {},
   "source": [
    "-- cruise finder page, expand the drop down list check"
   ]
  },
  {
   "cell_type": "code",
   "execution_count": 37,
   "metadata": {},
   "outputs": [],
   "source": [
    "chrome_options = Options()\n",
    "chrome_options.add_argument(\"User-Agent=Mozilla/5.0 (Windows NT 10.0; Win64; x64) AppleWebKit/537.36 (KHTML, like Gecko) Chrome/58.0.3029.110 Safari/537.36\")\n",
    "chrome_options.add_argument(\"--headless=new\")  # New headless implementation\n",
    "chrome_options.add_argument(\"--disable-gpu\")  # Disable GPU (useful for older environments)\n",
    "chrome_options.add_argument(\"--window-size=1920,1080\")  # Set window size for headless\n",
    "chrome_options.add_argument(\"--no-sandbox\")  # Bypass sandbox (useful in CI)\n",
    "chrome_options.add_argument(\"--disable-dev-shm-usage\")  # Prevent shared memory issues"
   ]
  },
  {
   "cell_type": "code",
   "execution_count": 46,
   "metadata": {},
   "outputs": [],
   "source": [
    "driver = webdriver.Chrome(options=chrome_options)"
   ]
  },
  {
   "cell_type": "code",
   "execution_count": 47,
   "metadata": {},
   "outputs": [
    {
     "name": "stdout",
     "output_type": "stream",
     "text": [
      "Page loaded successfully\n",
      "VIEW 616 CRUISES\n",
      "Dropdown clicked successfully\n",
      "Dropdown expanded successfully\n",
      "true\n",
      "VIEW 616 CRUISES\n"
     ]
    }
   ],
   "source": [
    "try:\n",
    "    url = \"https://preprod-aws.oceaniacruises.com/cruise-finder#sort=featured:desc&page=1&pageSize=10\"\n",
    "    driver.get(url)\n",
    "    time.sleep(12)\n",
    "    # ensure the results loaded by checking the value of view button\n",
    "    element = driver.find_element(By.CLASS_NAME, 'c265_aside_item')\n",
    "    is_page_loaded = \"0\" not in element.get_attribute(\"outerText\")\n",
    "    # drop_down_class = \".btn.dropdown-toggle.btn-outline-black.btn-md\" # Class of the dropdown - using CSS selector to acount for the spaces\n",
    "    drop_down_xpath = \"//button[contains(@class, 'btn') and contains(@class, 'dropdown-toggle') and contains(@class, 'btn-outline-black') and contains(@class, 'btn-md')]\"  # XPath for the dropdown\n",
    "    if is_page_loaded:\n",
    "        print('Page loaded successfully')\n",
    "        print(element.get_attribute(\"outerText\"))  # Print the outerText of the element\n",
    "        \n",
    "        # Find the dropdown element directly without waiting\n",
    "        drop_down_element = driver.find_element(By.XPATH, drop_down_xpath)\n",
    "        \n",
    "        # Scroll the dropdown element into view\n",
    "        driver.execute_script(\"arguments[0].scrollIntoView(true);\", drop_down_element)\n",
    "        \n",
    "        # Click the dropdown using JavaScript\n",
    "        driver.execute_script(\"arguments[0].click();\", drop_down_element)\n",
    "        print('Dropdown clicked successfully')\n",
    "        \n",
    "        # Get the attribute aria-expanded\n",
    "        drop_down_expanded = drop_down_element.get_attribute(\"aria-expanded\")\n",
    "        \n",
    "        if drop_down_expanded.lower() == \"true\":\n",
    "            print('Dropdown expanded successfully')\n",
    "            print(drop_down_expanded)\n",
    "        else:\n",
    "            print('Dropdown did not expand successfully')\n",
    "            print(drop_down_expanded)\n",
    "    else:\n",
    "        print('Page did not load successfully')\n",
    "\n",
    "except WebDriverException as e:\n",
    "    print('Error loading page:', e)\n",
    "\n",
    "except ElementNotInteractableException as e:\n",
    "    print('Element not interactable:', e)\n",
    "\n",
    "finally:\n",
    "    # Close the browser\n",
    "    driver.quit()"
   ]
  },
  {
   "cell_type": "markdown",
   "metadata": {},
   "source": []
  }
 ],
 "metadata": {
  "kernelspec": {
   "display_name": "oci",
   "language": "python",
   "name": "python3"
  },
  "language_info": {
   "codemirror_mode": {
    "name": "ipython",
    "version": 3
   },
   "file_extension": ".py",
   "mimetype": "text/x-python",
   "name": "python",
   "nbconvert_exporter": "python",
   "pygments_lexer": "ipython3",
   "version": "3.13.0"
  }
 },
 "nbformat": 4,
 "nbformat_minor": 2
}
